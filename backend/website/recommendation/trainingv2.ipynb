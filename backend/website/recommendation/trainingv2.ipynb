{
 "cells": [
  {
   "cell_type": "markdown",
   "id": "6d020738138ff425",
   "metadata": {
    "collapsed": false
   },
   "source": [
    "## load training triples"
   ]
  },
  {
   "cell_type": "code",
   "execution_count": 18,
   "id": "6b4131fae9ee0f8e",
   "metadata": {
    "collapsed": false,
    "ExecuteTime": {
     "end_time": "2024-01-27T21:28:21.400440442Z",
     "start_time": "2024-01-27T21:28:19.870920114Z"
    }
   },
   "outputs": [],
   "source": [
    "import json\n",
    "import numpy as np\n",
    "\n",
    "with open('training_data_pairs_shuffled.json', 'r') as f:\n",
    "    loaded_data = json.load(f)"
   ]
  },
  {
   "cell_type": "code",
   "outputs": [],
   "source": [
    "label_list = []\n",
    "anchor_list = []\n",
    "game_list = []\n",
    "\n",
    "for entry in loaded_data:\n",
    "    label_list.append(entry['label'])\n",
    "    anchor_list.append(f\"{entry['anchor']['id']} {entry['anchor']['features']} {entry['anchor']['description']}\")\n",
    "    game_list.append(f\"{entry['game']['id']} {entry['game']['features']} {entry['game']['description']}\")"
   ],
   "metadata": {
    "collapsed": false,
    "ExecuteTime": {
     "end_time": "2024-01-27T21:28:21.667228274Z",
     "start_time": "2024-01-27T21:28:21.405802759Z"
    }
   },
   "id": "8ec492a8f1a9f042",
   "execution_count": 19
  },
  {
   "cell_type": "code",
   "outputs": [
    {
     "name": "stdout",
     "output_type": "stream",
     "text": [
      "1 Adventure Shooter Simulator Action Fantasy Stealth actionadventure blackjack bowandarrow crime darkness death difficultylevel ghosts immersive invisibility melee movingbodies pacifistplaythrough particlesystem pickpocketing polygonald potion realtimecombat shadowstealth singleplayeronly stealthkill steampunk swimming swordplay theft thief ultimate thief back tread softly make complex non-linear levels full loot steal guards outsmart improved enemy gadgets riveting story draw world thief metal place powerful technologies fanatical religions corruption game begins garrett continues life thief however betrayed fence ambushed early mission determines truart local sheriff hunting keepers take garrett hear prophecy metal ignores garrett leaves keepers informs truart hired kill gives garrett letter directs eavesdrop mechanist meeting garrett overhears truart father karras discussing conversion street people mindless servants wear masks emit vapor capable reducing nearby humans rust truart promises provide karras twenty victims servant project realizing karras recording words blackmail garrett steals recording safe deposit order coerce truart revealing employer.however garrett finds truart murdered estate evidence crime scene leads police officer mosley garrett sees mosley deliver suspicious letter carried portal wounded pagan garrett enters portal finds outside city follows pagan trail blood viktoria persuades garrett join mechanists lead viktoria infiltrates karras office learn cetus project inadvertently discovers karras giving servants city nobles garrett travels mechanist base find cetus project revealed submarine order locate kidnap high-ranking mechanist named brother cavador garrett stows away vehicle.after delivering cavador viktoria garrett steals servant mask learn mechanist technology called cultivator meanwhile karras hides inside mechanist cathedral preparation plan garrett viktoria learn cultivators inside servant masks emit vapor rust karras provided servants nobles gardens order apocalyptic chain reaction viktoria plans lure servants hermetically sealed mechanist cathedral karras activates masks garrett believes dangerous leaves viktoria goes cathedral alone dies filling plants garrett completes plan killing karras rust afterward garrett approached keeper explains karras scheme viktoria death prophesied garrett demands know rest keepers prophecies game ends\n"
     ]
    }
   ],
   "source": [
    "print(np.array(anchor_list[0]))"
   ],
   "metadata": {
    "collapsed": false,
    "ExecuteTime": {
     "end_time": "2024-01-27T21:28:21.672630937Z",
     "start_time": "2024-01-27T21:28:21.668894305Z"
    }
   },
   "id": "5bc3a5685688b05d",
   "execution_count": 20
  },
  {
   "cell_type": "code",
   "outputs": [],
   "source": [
    "# import polars as pl\n",
    "#\n",
    "# label_list = []\n",
    "# anchor_id_list = []\n",
    "# anchor_features_list = []\n",
    "# anchor_description_list = []\n",
    "# game_id_list = []\n",
    "# game_features_list = []\n",
    "# game_description_list = []\n",
    "# \n",
    "# for entry in loaded_data:\n",
    "#     label_list.append(entry['label'])\n",
    "#     anchor_id_list.append(entry['anchor']['id'])\n",
    "#     anchor_features_list.append(entry['anchor']['features'])\n",
    "#     anchor_description_list.append(entry['anchor']['description'])\n",
    "#     game_id_list.append(entry['game']['id'])\n",
    "#     game_features_list.append(entry['game']['features'])\n",
    "#     game_description_list.append(entry['game']['description'])\n",
    "# \n",
    "# data = {\n",
    "#     'label': label_list,\n",
    "#     'anchor_id': anchor_id_list,\n",
    "#     'anchor_features': anchor_features_list,\n",
    "#     'anchor_description': anchor_description_list,\n",
    "#     'game_id': game_id_list,\n",
    "#     'game_features': game_features_list,\n",
    "#     'game_description': game_description_list\n",
    "# }\n",
    "# \n",
    "# df = pl.DataFrame(data)\n",
    "# df.head()"
   ],
   "metadata": {
    "collapsed": false,
    "ExecuteTime": {
     "end_time": "2024-01-27T21:28:21.679148701Z",
     "start_time": "2024-01-27T21:28:21.673567961Z"
    }
   },
   "id": "7964e4fb229c0cde",
   "execution_count": 21
  },
  {
   "cell_type": "code",
   "outputs": [],
   "source": [
    "# all_pairs_count = df.count().item(0,0)\n",
    "# print(all_pairs_count)\n",
    "# train_df = df.sample(all_pairs_count*0.8, shuffle=True, seed=24)\n",
    "# print(train_df.describe())"
   ],
   "metadata": {
    "collapsed": false,
    "ExecuteTime": {
     "end_time": "2024-01-27T21:28:21.679270579Z",
     "start_time": "2024-01-27T21:28:21.676783407Z"
    }
   },
   "id": "d24a6e3d1eed01f1",
   "execution_count": 22
  },
  {
   "cell_type": "code",
   "outputs": [],
   "source": [
    "# corpus = train_df.get_column('anchor_description') + train_df.get_column('game_description') + train_df.get_column('anchor_features') + train_df.get_column('game_features')\n",
    "# print(corpus.shape)"
   ],
   "metadata": {
    "collapsed": false,
    "ExecuteTime": {
     "end_time": "2024-01-27T21:28:21.684771451Z",
     "start_time": "2024-01-27T21:28:21.680022580Z"
    }
   },
   "id": "a3868e4b64f15f33",
   "execution_count": 23
  },
  {
   "cell_type": "code",
   "outputs": [],
   "source": [
    "# from tensorflow.keras.preprocessing.text import Tokenizer\n",
    "# from tensorflow.keras.preprocessing.sequence import pad_sequences\n",
    "# \n",
    "# MAX_NUM_WORDS = 10000\n",
    "# tokenizer = Tokenizer(MAX_NUM_WORDS)\n",
    "# tokenizer.fit_on_texts(corpus)\n",
    "# \n",
    "# A_train_description = tokenizer.texts_to_sequences(train_df.get_column('anchor_description'))\n",
    "# B_train_description = tokenizer.texts_to_sequences(train_df.get_column('game_description'))\n",
    "# \n",
    "# A_train_features = tokenizer.texts_to_sequences(train_df.get_column('anchor_features'))\n",
    "# B_train_features = tokenizer.texts_to_sequences(train_df.get_column('game_features'))"
   ],
   "metadata": {
    "collapsed": false,
    "ExecuteTime": {
     "end_time": "2024-01-27T21:28:21.728525640Z",
     "start_time": "2024-01-27T21:28:21.682432449Z"
    }
   },
   "id": "c3851a59b99d179c",
   "execution_count": 24
  },
  {
   "cell_type": "code",
   "outputs": [],
   "source": [
    "# MAX_DESC_LENGTH = max([len(d) for d in A_train_description + B_train_description])\n",
    "# MAX_FEAT_LENGTH = max([len(d) for d in A_train_features + B_train_features])\n",
    "# print(f'MAX_DESC_LENGTH: {MAX_DESC_LENGTH} | MAX_FEAT_LENGTH: {MAX_FEAT_LENGTH}')"
   ],
   "metadata": {
    "collapsed": false,
    "ExecuteTime": {
     "end_time": "2024-01-27T21:28:21.729189484Z",
     "start_time": "2024-01-27T21:28:21.724443533Z"
    }
   },
   "id": "f41161b3ddb95e9a",
   "execution_count": 25
  },
  {
   "cell_type": "code",
   "outputs": [],
   "source": [
    "# A_train_description = pad_sequences(A_train_description, maxlen=MAX_DESC_LENGTH)\n",
    "# B_train_description = pad_sequences(B_train_description, maxlen=MAX_DESC_LENGTH)\n",
    "# \n",
    "# A_train_features = pad_sequences(A_train_features, maxlen=MAX_FEAT_LENGTH)\n",
    "# B_train_features = pad_sequences(B_train_features, maxlen=MAX_FEAT_LENGTH)"
   ],
   "metadata": {
    "collapsed": false,
    "ExecuteTime": {
     "end_time": "2024-01-27T21:28:21.729722817Z",
     "start_time": "2024-01-27T21:28:21.724580668Z"
    }
   },
   "id": "e16a4f928df6d7dd",
   "execution_count": 26
  },
  {
   "cell_type": "code",
   "outputs": [],
   "source": [
    "# train_df.head()"
   ],
   "metadata": {
    "collapsed": false,
    "ExecuteTime": {
     "end_time": "2024-01-27T21:28:21.730246492Z",
     "start_time": "2024-01-27T21:28:21.724665622Z"
    }
   },
   "id": "646d7d7a95681d6e",
   "execution_count": 27
  },
  {
   "cell_type": "code",
   "outputs": [],
   "source": [
    "# new_train_df = train_df.insert_column(1, pl.Series(\"A_description\", A_train_description))\n",
    "# new_train_df = new_train_df.insert_column(1, pl.Series(\"B_description\", B_train_description))\n",
    "# new_train_df = new_train_df.insert_column(1, pl.Series(\"A_features\", A_train_features))\n",
    "# new_train_df = new_train_df.insert_column(1, pl.Series(\"B_features\", B_train_features))"
   ],
   "metadata": {
    "collapsed": false,
    "ExecuteTime": {
     "end_time": "2024-01-27T21:28:21.730768434Z",
     "start_time": "2024-01-27T21:28:21.724735498Z"
    }
   },
   "id": "46a9d288bd29cc22",
   "execution_count": 28
  },
  {
   "cell_type": "code",
   "outputs": [],
   "source": [
    "# new_train_df = new_train_df.drop('anchor_features', 'anchor_description', 'game_features', 'game_description')\n",
    "# new_train_df.head()"
   ],
   "metadata": {
    "collapsed": false,
    "ExecuteTime": {
     "end_time": "2024-01-27T21:28:21.731279026Z",
     "start_time": "2024-01-27T21:28:21.724809174Z"
    }
   },
   "id": "22d6def8afba43c9",
   "execution_count": 29
  },
  {
   "cell_type": "code",
   "outputs": [],
   "source": [
    "from sklearn.model_selection import train_test_split\n",
    "\n",
    "train_anchor, temp_anchor, train_game, temp_game, train_labels, temp_labels = train_test_split(\n",
    "    anchor_list,\n",
    "    game_list,\n",
    "    label_list,\n",
    "    test_size=0.8, random_state=42)\n",
    "val_anchor, test_anchor, val_game, test_game, val_labels, test_labels = train_test_split(\n",
    "    temp_anchor,\n",
    "    temp_game,\n",
    "    temp_labels,\n",
    "    test_size=0.5, random_state=42)"
   ],
   "metadata": {
    "collapsed": false,
    "ExecuteTime": {
     "end_time": "2024-01-27T21:28:22.013729562Z",
     "start_time": "2024-01-27T21:28:21.724917603Z"
    }
   },
   "id": "5195546eabbaca01",
   "execution_count": 30
  },
  {
   "cell_type": "code",
   "outputs": [],
   "source": [
    "MAX_LENGTH = max([len(d) for d in anchor_list + game_list])\n",
    "NUM_CLASSES = 1\n",
    "MAX_TOKENS = 10000"
   ],
   "metadata": {
    "collapsed": false,
    "ExecuteTime": {
     "end_time": "2024-01-27T21:28:22.101046709Z",
     "start_time": "2024-01-27T21:28:22.074401558Z"
    }
   },
   "id": "a4cf7420af199a22",
   "execution_count": 31
  },
  {
   "cell_type": "code",
   "outputs": [],
   "source": [
    "import tensorflow as tf\n",
    "from tensorflow.keras import layers, models\n",
    "\n",
    "anchor_input = tf.keras.Input(shape=(1,), name='anchor', dtype=tf.string)\n",
    "game_input = tf.keras.Input(shape=(1,), name='game', dtype=tf.string)\n",
    "\n",
    "vectorize_layer = layers.TextVectorization(max_tokens=MAX_TOKENS,) \n",
    "vectorize_layer.adapt(anchor_list)\n",
    "\n",
    "A_vectorized = vectorize_layer(anchor_input)\n",
    "B_vectorized = vectorize_layer(game_input)\n",
    "\n",
    "embedding_layer = layers.Embedding(input_dim=MAX_LENGTH, output_dim=128)\n",
    "A_embedded = embedding_layer(A_vectorized)\n",
    "B_embedded = embedding_layer(B_vectorized)\n",
    "\n",
    "shared_lstm = layers.LSTM(64)\n",
    "A_output = shared_lstm(A_embedded)\n",
    "B_output = shared_lstm(B_embedded)\n",
    "\n",
    "merged = layers.concatenate(\n",
    "    [A_output, B_output], \n",
    "    axis=-1)\n",
    "\n",
    "dropout1 = layers.Dropout(0.5)(merged)\n",
    "\n",
    "dense1 = layers.Dense(\n",
    "    units=NUM_CLASSES, \n",
    "    activation='relu')(dropout1)\n",
    "\n",
    "dropout2 = layers.Dropout(0.5)(dense1)\n",
    "\n",
    "dense2 = layers.Dense(\n",
    "    units=NUM_CLASSES, \n",
    "    activation='softmax')\n",
    "\n",
    "predictions = dense2(dropout2)\n",
    "\n",
    "siamese_model = models.Model(inputs=[anchor_input, game_input],\n",
    "                                  outputs=predictions, \n",
    "                                  name='siamese_model')\n",
    "\n",
    "siamese_model.compile(optimizer='adam', \n",
    "                      loss='binary_crossentropy', \n",
    "                      metrics=['accuracy'])\n",
    "\n",
    "siamese_model.summary()"
   ],
   "metadata": {
    "collapsed": false,
    "is_executing": true,
    "ExecuteTime": {
     "start_time": "2024-01-27T21:28:22.143110880Z"
    }
   },
   "id": "626140ab8094fc1",
   "execution_count": null
  },
  {
   "cell_type": "code",
   "outputs": [],
   "source": [
    "from keras.utils import plot_model\n",
    "\n",
    "plot_model(siamese_model, to_file='model_plot.png', show_shapes=True, show_layer_names=True)"
   ],
   "metadata": {
    "collapsed": false,
    "is_executing": true
   },
   "id": "9e0b1eb4eedea360",
   "execution_count": null
  },
  {
   "cell_type": "code",
   "outputs": [],
   "source": [
    "history = siamese_model.fit(\n",
    "    [np.array(train_anchor), np.array(train_game)],\n",
    "    np.array(train_labels),\n",
    "    epochs=10,\n",
    "    batch_size=128,\n",
    "    use_multiprocessing=True,\n",
    "    workers=10,\n",
    "    validation_data=([np.array(val_anchor), np.array(val_game)], np.array(val_labels))\n",
    ")"
   ],
   "metadata": {
    "collapsed": false,
    "is_executing": true
   },
   "id": "d285301147f0d730",
   "execution_count": null
  },
  {
   "cell_type": "code",
   "outputs": [],
   "source": [
    "siamese_model.save('siamese_model_v2.keras')"
   ],
   "metadata": {
    "collapsed": false,
    "is_executing": true
   },
   "id": "29cfb02f6777637d",
   "execution_count": null
  },
  {
   "cell_type": "code",
   "outputs": [],
   "source": [
    "from matplotlib import pyplot as plt\n",
    "\n",
    "plt.plot(history.history['accuracy'])\n",
    "plt.plot(history.history['val_accuracy'])\n",
    "plt.title('model accuracy')\n",
    "plt.ylabel('accuracy')\n",
    "plt.xlabel('epoch')\n",
    "plt.legend(['train', 'val'], loc='upper left')\n",
    "plt.show()"
   ],
   "metadata": {
    "collapsed": false,
    "is_executing": true
   },
   "id": "b836adac00f38ebf",
   "execution_count": null
  },
  {
   "cell_type": "code",
   "outputs": [],
   "source": [
    "plt.plot(history.history['loss'])\n",
    "plt.plot(history.history['val_loss'])\n",
    "plt.title('model loss')\n",
    "plt.ylabel('loss')\n",
    "plt.xlabel('epoch')\n",
    "plt.legend(['train', 'val'], loc='upper left')\n",
    "plt.show()"
   ],
   "metadata": {
    "collapsed": false,
    "is_executing": true
   },
   "id": "22f249de41d81b79",
   "execution_count": null
  },
  {
   "cell_type": "code",
   "outputs": [],
   "source": [
    "test_loss, test_accuracy = siamese_model.evaluate(\n",
    "    (test_anchor, test_game),\n",
    "    np.array(test_labels),\n",
    ")\n",
    "print(f'Test Loss: {test_loss:.4f}, Test Accuracy: {test_accuracy * 100:.2f}%')"
   ],
   "metadata": {
    "collapsed": false,
    "is_executing": true
   },
   "id": "4619ea1618471ef4",
   "execution_count": null
  },
  {
   "cell_type": "code",
   "outputs": [],
   "source": [],
   "metadata": {
    "collapsed": false,
    "is_executing": true
   },
   "id": "f1db094d662297a8"
  }
 ],
 "metadata": {
  "kernelspec": {
   "display_name": "Python 3 (ipykernel)",
   "language": "python",
   "name": "python3"
  },
  "language_info": {
   "codemirror_mode": {
    "name": "ipython",
    "version": 3
   },
   "file_extension": ".py",
   "mimetype": "text/x-python",
   "name": "python",
   "nbconvert_exporter": "python",
   "pygments_lexer": "ipython3",
   "version": "3.10.12"
  }
 },
 "nbformat": 4,
 "nbformat_minor": 5
}
