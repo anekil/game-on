{
 "cells": [
  {
   "cell_type": "markdown",
   "id": "6d020738138ff425",
   "metadata": {
    "collapsed": false
   },
   "source": [
    "## load training triples"
   ]
  },
  {
   "cell_type": "code",
   "execution_count": 49,
   "id": "6b4131fae9ee0f8e",
   "metadata": {
    "collapsed": false,
    "ExecuteTime": {
     "end_time": "2024-01-27T20:44:47.348929045Z",
     "start_time": "2024-01-27T20:44:45.436974723Z"
    }
   },
   "outputs": [],
   "source": [
    "import json\n",
    "\n",
    "\n",
    "with open('training_data_pairs_shuffled.json', 'r') as f:\n",
    "    loaded_data = json.load(f)"
   ]
  },
  {
   "cell_type": "code",
   "outputs": [],
   "source": [
    "label_list = []\n",
    "anchor_list = []\n",
    "game_list = []\n",
    "\n",
    "for entry in loaded_data:\n",
    "    label_list.append(entry['label'])\n",
    "    anchor_list.append(f\"{entry['anchor']['id']} {entry['anchor']['features']} {entry['anchor']['description']}\")\n",
    "    game_list.append(f\"{entry['game']['id']} {entry['game']['features']} {entry['game']['description']}\")"
   ],
   "metadata": {
    "collapsed": false,
    "ExecuteTime": {
     "end_time": "2024-01-27T20:44:47.591951887Z",
     "start_time": "2024-01-27T20:44:47.348836603Z"
    }
   },
   "id": "8ec492a8f1a9f042",
   "execution_count": 50
  },
  {
   "cell_type": "code",
   "outputs": [],
   "source": [],
   "metadata": {
    "collapsed": false,
    "ExecuteTime": {
     "end_time": "2024-01-27T20:44:47.596726436Z",
     "start_time": "2024-01-27T20:44:47.593085144Z"
    }
   },
   "id": "5bc3a5685688b05d",
   "execution_count": 50
  },
  {
   "cell_type": "code",
   "outputs": [],
   "source": [
    "# import polars as pl\n",
    "#\n",
    "# label_list = []\n",
    "# anchor_id_list = []\n",
    "# anchor_features_list = []\n",
    "# anchor_description_list = []\n",
    "# game_id_list = []\n",
    "# game_features_list = []\n",
    "# game_description_list = []\n",
    "# \n",
    "# for entry in loaded_data:\n",
    "#     label_list.append(entry['label'])\n",
    "#     anchor_id_list.append(entry['anchor']['id'])\n",
    "#     anchor_features_list.append(entry['anchor']['features'])\n",
    "#     anchor_description_list.append(entry['anchor']['description'])\n",
    "#     game_id_list.append(entry['game']['id'])\n",
    "#     game_features_list.append(entry['game']['features'])\n",
    "#     game_description_list.append(entry['game']['description'])\n",
    "# \n",
    "# data = {\n",
    "#     'label': label_list,\n",
    "#     'anchor_id': anchor_id_list,\n",
    "#     'anchor_features': anchor_features_list,\n",
    "#     'anchor_description': anchor_description_list,\n",
    "#     'game_id': game_id_list,\n",
    "#     'game_features': game_features_list,\n",
    "#     'game_description': game_description_list\n",
    "# }\n",
    "# \n",
    "# df = pl.DataFrame(data)\n",
    "# df.head()"
   ],
   "metadata": {
    "collapsed": false,
    "ExecuteTime": {
     "end_time": "2024-01-27T20:44:47.601403273Z",
     "start_time": "2024-01-27T20:44:47.596049874Z"
    }
   },
   "id": "7964e4fb229c0cde",
   "execution_count": 51
  },
  {
   "cell_type": "code",
   "outputs": [],
   "source": [
    "# all_pairs_count = df.count().item(0,0)\n",
    "# print(all_pairs_count)\n",
    "# train_df = df.sample(all_pairs_count*0.8, shuffle=True, seed=24)\n",
    "# print(train_df.describe())"
   ],
   "metadata": {
    "collapsed": false,
    "ExecuteTime": {
     "end_time": "2024-01-27T20:44:47.602002666Z",
     "start_time": "2024-01-27T20:44:47.599055424Z"
    }
   },
   "id": "d24a6e3d1eed01f1",
   "execution_count": 52
  },
  {
   "cell_type": "code",
   "outputs": [],
   "source": [
    "# corpus = train_df.get_column('anchor_description') + train_df.get_column('game_description') + train_df.get_column('anchor_features') + train_df.get_column('game_features')\n",
    "# print(corpus.shape)"
   ],
   "metadata": {
    "collapsed": false,
    "ExecuteTime": {
     "end_time": "2024-01-27T20:44:47.603524307Z",
     "start_time": "2024-01-27T20:44:47.601752573Z"
    }
   },
   "id": "a3868e4b64f15f33",
   "execution_count": 53
  },
  {
   "cell_type": "code",
   "outputs": [],
   "source": [
    "# from tensorflow.keras.preprocessing.text import Tokenizer\n",
    "# from tensorflow.keras.preprocessing.sequence import pad_sequences\n",
    "# \n",
    "# MAX_NUM_WORDS = 10000\n",
    "# tokenizer = Tokenizer(MAX_NUM_WORDS)\n",
    "# tokenizer.fit_on_texts(corpus)\n",
    "# \n",
    "# A_train_description = tokenizer.texts_to_sequences(train_df.get_column('anchor_description'))\n",
    "# B_train_description = tokenizer.texts_to_sequences(train_df.get_column('game_description'))\n",
    "# \n",
    "# A_train_features = tokenizer.texts_to_sequences(train_df.get_column('anchor_features'))\n",
    "# B_train_features = tokenizer.texts_to_sequences(train_df.get_column('game_features'))"
   ],
   "metadata": {
    "collapsed": false,
    "ExecuteTime": {
     "end_time": "2024-01-27T20:44:47.657912979Z",
     "start_time": "2024-01-27T20:44:47.604287524Z"
    }
   },
   "id": "c3851a59b99d179c",
   "execution_count": 54
  },
  {
   "cell_type": "code",
   "outputs": [],
   "source": [
    "# MAX_DESC_LENGTH = max([len(d) for d in A_train_description + B_train_description])\n",
    "# MAX_FEAT_LENGTH = max([len(d) for d in A_train_features + B_train_features])\n",
    "# print(f'MAX_DESC_LENGTH: {MAX_DESC_LENGTH} | MAX_FEAT_LENGTH: {MAX_FEAT_LENGTH}')"
   ],
   "metadata": {
    "collapsed": false,
    "ExecuteTime": {
     "end_time": "2024-01-27T20:44:47.658477164Z",
     "start_time": "2024-01-27T20:44:47.644977935Z"
    }
   },
   "id": "f41161b3ddb95e9a",
   "execution_count": 55
  },
  {
   "cell_type": "code",
   "outputs": [],
   "source": [
    "# A_train_description = pad_sequences(A_train_description, maxlen=MAX_DESC_LENGTH)\n",
    "# B_train_description = pad_sequences(B_train_description, maxlen=MAX_DESC_LENGTH)\n",
    "# \n",
    "# A_train_features = pad_sequences(A_train_features, maxlen=MAX_FEAT_LENGTH)\n",
    "# B_train_features = pad_sequences(B_train_features, maxlen=MAX_FEAT_LENGTH)"
   ],
   "metadata": {
    "collapsed": false,
    "ExecuteTime": {
     "end_time": "2024-01-27T20:44:47.658929131Z",
     "start_time": "2024-01-27T20:44:47.645055587Z"
    }
   },
   "id": "e16a4f928df6d7dd",
   "execution_count": 56
  },
  {
   "cell_type": "code",
   "outputs": [],
   "source": [
    "# train_df.head()"
   ],
   "metadata": {
    "collapsed": false,
    "ExecuteTime": {
     "end_time": "2024-01-27T20:44:47.659385053Z",
     "start_time": "2024-01-27T20:44:47.645105027Z"
    }
   },
   "id": "646d7d7a95681d6e",
   "execution_count": 57
  },
  {
   "cell_type": "code",
   "outputs": [],
   "source": [
    "# new_train_df = train_df.insert_column(1, pl.Series(\"A_description\", A_train_description))\n",
    "# new_train_df = new_train_df.insert_column(1, pl.Series(\"B_description\", B_train_description))\n",
    "# new_train_df = new_train_df.insert_column(1, pl.Series(\"A_features\", A_train_features))\n",
    "# new_train_df = new_train_df.insert_column(1, pl.Series(\"B_features\", B_train_features))"
   ],
   "metadata": {
    "collapsed": false,
    "ExecuteTime": {
     "end_time": "2024-01-27T20:44:47.659833104Z",
     "start_time": "2024-01-27T20:44:47.645147561Z"
    }
   },
   "id": "46a9d288bd29cc22",
   "execution_count": 58
  },
  {
   "cell_type": "code",
   "outputs": [],
   "source": [
    "# new_train_df = new_train_df.drop('anchor_features', 'anchor_description', 'game_features', 'game_description')\n",
    "# new_train_df.head()"
   ],
   "metadata": {
    "collapsed": false,
    "ExecuteTime": {
     "end_time": "2024-01-27T20:44:47.660327319Z",
     "start_time": "2024-01-27T20:44:47.645190080Z"
    }
   },
   "id": "22d6def8afba43c9",
   "execution_count": 59
  },
  {
   "cell_type": "code",
   "outputs": [],
   "source": [
    "from sklearn.model_selection import train_test_split\n",
    "\n",
    "A_train, A_test, B_train, B_test, y_train, y_test = train_test_split(\n",
    "    anchor_list,\n",
    "    game_list,\n",
    "    label_list,\n",
    "    test_size=0.9, random_state=42)"
   ],
   "metadata": {
    "collapsed": false,
    "ExecuteTime": {
     "end_time": "2024-01-27T20:44:47.803967479Z",
     "start_time": "2024-01-27T20:44:47.645270604Z"
    }
   },
   "id": "5195546eabbaca01",
   "execution_count": 60
  },
  {
   "cell_type": "code",
   "outputs": [],
   "source": [
    "MAX_LENGTH = max([len(d) for d in anchor_list + game_list])\n",
    "NUM_CLASSES = 2\n",
    "MAX_TOKENS = 10000"
   ],
   "metadata": {
    "collapsed": false,
    "ExecuteTime": {
     "end_time": "2024-01-27T20:44:47.886036538Z",
     "start_time": "2024-01-27T20:44:47.823569679Z"
    }
   },
   "id": "a4cf7420af199a22",
   "execution_count": 61
  },
  {
   "cell_type": "code",
   "outputs": [
    {
     "name": "stdout",
     "output_type": "stream",
     "text": [
      "Model: \"siamese_model\"\n",
      "__________________________________________________________________________________________________\n",
      " Layer (type)                Output Shape                 Param #   Connected to                  \n",
      "==================================================================================================\n",
      " anchor (InputLayer)         [(None, 1)]                  0         []                            \n",
      "                                                                                                  \n",
      " game (InputLayer)           [(None, 1)]                  0         []                            \n",
      "                                                                                                  \n",
      " text_vectorization_5 (Text  (None, None)                 0         ['anchor[0][0]',              \n",
      " Vectorization)                                                      'game[0][0]']                \n",
      "                                                                                                  \n",
      " embedding_2 (Embedding)     (None, None, 128)            1782272   ['text_vectorization_5[0][0]',\n",
      "                                                                     'text_vectorization_5[1][0]']\n",
      "                                                                                                  \n",
      " lstm_1 (LSTM)               (None, 64)                   49408     ['embedding_2[0][0]',         \n",
      "                                                                     'embedding_2[1][0]']         \n",
      "                                                                                                  \n",
      " concatenate_1 (Concatenate  (None, 128)                  0         ['lstm_1[0][0]',              \n",
      " )                                                                   'lstm_1[1][0]']              \n",
      "                                                                                                  \n",
      " dense_1 (Dense)             (None, 2)                    258       ['concatenate_1[0][0]']       \n",
      "                                                                                                  \n",
      "==================================================================================================\n",
      "Total params: 1831938 (6.99 MB)\n",
      "Trainable params: 1831938 (6.99 MB)\n",
      "Non-trainable params: 0 (0.00 Byte)\n",
      "__________________________________________________________________________________________________\n"
     ]
    }
   ],
   "source": [
    "import tensorflow as tf\n",
    "from tensorflow.keras import layers, models\n",
    "\n",
    "anchor_input = tf.keras.Input(shape=(1,), name='anchor', dtype=tf.string)\n",
    "game_input = tf.keras.Input(shape=(1,), name='game', dtype=tf.string)\n",
    "\n",
    "\n",
    "vectorize_layer = layers.TextVectorization(max_tokens=MAX_TOKENS,) \n",
    "vectorize_layer.adapt(anchor_list)\n",
    "\n",
    "A_vectorized = vectorize_layer(anchor_input)\n",
    "B_vectorized = vectorize_layer(game_input)\n",
    "\n",
    "embedding_layer = layers.Embedding(input_dim=MAX_LENGTH, output_dim=128)\n",
    "A_embedded = embedding_layer(A_vectorized)\n",
    "B_embedded = embedding_layer(B_vectorized)\n",
    "\n",
    "shared_lstm = layers.LSTM(64)\n",
    "A_output = shared_lstm(A_embedded)\n",
    "B_output = shared_lstm(B_embedded)\n",
    "\n",
    "merged = layers.concatenate(\n",
    "    [A_output, B_output], \n",
    "    axis=-1)\n",
    "\n",
    "dense = layers.Dense(\n",
    "    units=NUM_CLASSES, \n",
    "    activation='softmax')\n",
    "predictions = dense(merged)\n",
    "\n",
    "siamese_model = models.Model(inputs=[anchor_input, game_input],\n",
    "                                  outputs=predictions, \n",
    "                                  name='siamese_model')\n",
    "\n",
    "siamese_model.compile(optimizer='adam', \n",
    "                      loss='categorical_crossentropy', \n",
    "                      metrics=['accuracy'])\n",
    "\n",
    "siamese_model.summary()"
   ],
   "metadata": {
    "collapsed": false,
    "ExecuteTime": {
     "end_time": "2024-01-27T20:48:50.407611253Z",
     "start_time": "2024-01-27T20:48:25.987491725Z"
    }
   },
   "id": "626140ab8094fc1",
   "execution_count": 64
  },
  {
   "cell_type": "code",
   "outputs": [
    {
     "name": "stdout",
     "output_type": "stream",
     "text": [
      "You must install pydot (`pip install pydot`) and install graphviz (see instructions at https://graphviz.gitlab.io/download/) for plot_model to work.\n"
     ]
    }
   ],
   "source": [
    "from keras.utils import plot_model\n",
    "\n",
    "plot_model(siamese_model, to_file='model_plot.png', show_shapes=True, show_layer_names=True)"
   ],
   "metadata": {
    "collapsed": false,
    "ExecuteTime": {
     "end_time": "2024-01-27T20:49:13.462918156Z",
     "start_time": "2024-01-27T20:49:13.406938652Z"
    }
   },
   "id": "9e0b1eb4eedea360",
   "execution_count": 65
  },
  {
   "cell_type": "code",
   "outputs": [],
   "source": [
    "history = siamese_model.predict(anchor_list[:2])\n",
    "\n",
    "# history = siamese_model.fit(\n",
    "#     [train_anchor, train_game],\n",
    "#     np.array(train_labels),\n",
    "#     epochs=10,\n",
    "#     batch_size=64,\n",
    "#     #validation_split=0.2,\n",
    "#     use_multiprocessing=True,\n",
    "#     workers=10,\n",
    "#     validation_data=([val_anchor, val_game], np.array(val_labels))\n",
    "# )"
   ],
   "metadata": {
    "collapsed": false
   },
   "id": "29cfb02f6777637d",
   "execution_count": null
  },
  {
   "cell_type": "code",
   "outputs": [],
   "source": [
    "from matplotlib import pyplot as plt\n",
    "\n",
    "plt.plot(history.history['accuracy'])\n",
    "plt.plot(history.history['val_accuracy'])\n",
    "plt.title('model accuracy')\n",
    "plt.ylabel('accuracy')\n",
    "plt.xlabel('epoch')\n",
    "plt.legend(['train', 'val'], loc='upper left')\n",
    "plt.show()"
   ],
   "metadata": {
    "collapsed": false
   },
   "id": "b836adac00f38ebf",
   "execution_count": null
  },
  {
   "cell_type": "code",
   "outputs": [],
   "source": [
    "plt.plot(history.history['loss'])\n",
    "plt.plot(history.history['val_loss'])\n",
    "plt.title('model loss')\n",
    "plt.ylabel('loss')\n",
    "plt.xlabel('epoch')\n",
    "plt.legend(['train', 'val'], loc='upper left')\n",
    "plt.show()"
   ],
   "metadata": {
    "collapsed": false
   },
   "id": "4619ea1618471ef4",
   "execution_count": null
  }
 ],
 "metadata": {
  "kernelspec": {
   "display_name": "Python 3 (ipykernel)",
   "language": "python",
   "name": "python3"
  },
  "language_info": {
   "codemirror_mode": {
    "name": "ipython",
    "version": 3
   },
   "file_extension": ".py",
   "mimetype": "text/x-python",
   "name": "python",
   "nbconvert_exporter": "python",
   "pygments_lexer": "ipython3",
   "version": "3.10.12"
  }
 },
 "nbformat": 4,
 "nbformat_minor": 5
}
