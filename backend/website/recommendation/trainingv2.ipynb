{
 "cells": [
  {
   "cell_type": "markdown",
   "id": "6d020738138ff425",
   "metadata": {
    "collapsed": false
   },
   "source": [
    "## load training pairs"
   ]
  },
  {
   "cell_type": "code",
   "execution_count": 1,
   "id": "6b4131fae9ee0f8e",
   "metadata": {
    "collapsed": false,
    "ExecuteTime": {
     "end_time": "2024-02-01T20:38:55.882154338Z",
     "start_time": "2024-02-01T20:38:47.743735319Z"
    }
   },
   "outputs": [],
   "source": [
    "import json\n",
    "import numpy as np\n",
    "\n",
    "with open('training_data_pairs_shuffled.json', 'r') as f:\n",
    "    loaded_data = json.load(f)"
   ]
  },
  {
   "cell_type": "code",
   "outputs": [],
   "source": [
    "label_list = []\n",
    "anchor_list = []\n",
    "game_list = []\n",
    "\n",
    "for entry in loaded_data:\n",
    "    label_list.append(entry['label'])\n",
    "    anchor_list.append(f\"{entry['anchor']['features']} {entry['anchor']['description']}\")\n",
    "    game_list.append(f\"{entry['game']['features']} {entry['game']['description']}\")\n",
    "    #anchor_list.append(f\"{entry['anchor']['features']}\")\n",
    "    #game_list.append(f\"{entry['game']['features']}\")"
   ],
   "metadata": {
    "collapsed": false,
    "ExecuteTime": {
     "end_time": "2024-02-01T20:38:56.866916560Z",
     "start_time": "2024-02-01T20:38:55.922928828Z"
    }
   },
   "id": "8ec492a8f1a9f042",
   "execution_count": 2
  },
  {
   "cell_type": "code",
   "outputs": [
    {
     "name": "stdout",
     "output_type": "stream",
     "text": [
      "Adventure Shooter Simulator Action Fantasy Stealth actionadventure blackjack bowandarrow crime darkness death difficultylevel ghosts immersive invisibility melee movingbodies pacifistplaythrough particlesystem pickpocketing polygonald potion realtimecombat shadowstealth singleplayeronly stealthkill steampunk swimming swordplay theft thief ultimate thief back tread softly make complex full loot steal outsmart enemy riveting story draw world thief metal place powerful fanatical corruption life thief however fence early mission local sheriff hunting take hear prophecy metal leaves hired kill letter eavesdrop mechanist meeting father conversion street people mindless wear emit vapor capable reducing nearby rust provide twenty servant project realizing recording blackmail recording safe deposit order coerce revealing estate evidence crime scene police officer deliver suspicious letter carried portal wounded pagan portal outside city pagan trail blood join lead office learn project inadvertently giving city mechanist base find project revealed submarine order locate kidnap mechanist brother away servant mask learn mechanist technology cultivator meanwhile inside mechanist cathedral preparation plan learn inside servant emit vapor rust provided order apocalyptic chain reaction lure hermetically sealed mechanist cathedral dangerous leaves goes cathedral alone filling plan killing rust afterward keeper scheme death know rest game\n"
     ]
    }
   ],
   "source": [
    "print(np.array(anchor_list[0]))"
   ],
   "metadata": {
    "collapsed": false,
    "ExecuteTime": {
     "end_time": "2024-02-01T20:38:56.875588343Z",
     "start_time": "2024-02-01T20:38:56.864630943Z"
    }
   },
   "id": "9d67ed2d536a5627",
   "execution_count": 3
  },
  {
   "cell_type": "code",
   "outputs": [
    {
     "name": "stdout",
     "output_type": "stream",
     "text": [
      "Adventure Simulator Action Fantasy Stealth actionadventure assassin basketball betrayal blackjack bowandarrow bread crime darkness difficultylevel ghosts immersive instantkill invisibility magic maleprotagonist medieval melee movingbodies murder pacifistplaythrough particlesystem pickpocketing plottwist polygonald potion realtimecombat reluctanthero retailgameswithsteamactivation shadowstealth singleplayeronly stealthkill steampunk swimming swordplay theft thief tombraiding voiceacting thief stealth dark sneak subterranean forbidding dark sinister city heavily inspired dark ally money hidden allies story deception revenge\n"
     ]
    }
   ],
   "source": [
    "print(game_list[0])"
   ],
   "metadata": {
    "collapsed": false,
    "ExecuteTime": {
     "end_time": "2024-02-01T20:38:56.903752973Z",
     "start_time": "2024-02-01T20:38:56.878556496Z"
    }
   },
   "id": "e65db4495ef8fc86",
   "execution_count": 4
  },
  {
   "cell_type": "code",
   "outputs": [],
   "source": [
    "from sklearn.model_selection import train_test_split\n",
    "\n",
    "train_anchor, temp_anchor, train_game, temp_game, train_labels, temp_labels = train_test_split(\n",
    "    anchor_list,\n",
    "    game_list,\n",
    "    label_list,\n",
    "    test_size=0.8, random_state=42)\n",
    "val_anchor, test_anchor, val_game, test_game, val_labels, test_labels = train_test_split(\n",
    "    temp_anchor,\n",
    "    temp_game,\n",
    "    temp_labels,\n",
    "    test_size=0.5, random_state=42)"
   ],
   "metadata": {
    "collapsed": false,
    "ExecuteTime": {
     "end_time": "2024-02-01T20:38:58.740514767Z",
     "start_time": "2024-02-01T20:38:57.071555894Z"
    }
   },
   "id": "5195546eabbaca01",
   "execution_count": 14
  },
  {
   "cell_type": "code",
   "outputs": [
    {
     "name": "stdout",
     "output_type": "stream",
     "text": [
      "8551\n"
     ]
    }
   ],
   "source": [
    "MAX_LENGTH = max([len(d) for d in anchor_list + game_list])\n",
    "print(MAX_LENGTH)\n",
    "NUM_CLASSES = 1\n",
    "MAX_TOKENS = 10000"
   ],
   "metadata": {
    "collapsed": false,
    "ExecuteTime": {
     "end_time": "2024-02-01T20:38:59.047021577Z",
     "start_time": "2024-02-01T20:38:58.818991907Z"
    }
   },
   "id": "a4cf7420af199a22",
   "execution_count": 15
  },
  {
   "cell_type": "code",
   "outputs": [
    {
     "name": "stderr",
     "output_type": "stream",
     "text": [
      "2024-02-01 21:40:17.537262: I external/local_tsl/tsl/cuda/cudart_stub.cc:31] Could not find cuda drivers on your machine, GPU will not be used.\n",
      "2024-02-01 21:40:18.028774: E external/local_xla/xla/stream_executor/cuda/cuda_dnn.cc:9261] Unable to register cuDNN factory: Attempting to register factory for plugin cuDNN when one has already been registered\n",
      "2024-02-01 21:40:18.028847: E external/local_xla/xla/stream_executor/cuda/cuda_fft.cc:607] Unable to register cuFFT factory: Attempting to register factory for plugin cuFFT when one has already been registered\n",
      "2024-02-01 21:40:18.104246: E external/local_xla/xla/stream_executor/cuda/cuda_blas.cc:1515] Unable to register cuBLAS factory: Attempting to register factory for plugin cuBLAS when one has already been registered\n",
      "2024-02-01 21:40:18.279917: I external/local_tsl/tsl/cuda/cudart_stub.cc:31] Could not find cuda drivers on your machine, GPU will not be used.\n",
      "2024-02-01 21:40:18.281872: I tensorflow/core/platform/cpu_feature_guard.cc:182] This TensorFlow binary is optimized to use available CPU instructions in performance-critical operations.\n",
      "To enable the following instructions: AVX2 FMA, in other operations, rebuild TensorFlow with the appropriate compiler flags.\n",
      "2024-02-01 21:40:19.979396: W tensorflow/compiler/tf2tensorrt/utils/py_utils.cc:38] TF-TRT Warning: Could not find TensorRT\n",
      "2024-02-01 21:40:21.506081: I external/local_xla/xla/stream_executor/cuda/cuda_executor.cc:901] successful NUMA node read from SysFS had negative value (-1), but there must be at least one NUMA node, so returning NUMA node zero. See more at https://github.com/torvalds/linux/blob/v6.0/Documentation/ABI/testing/sysfs-bus-pci#L344-L355\n",
      "2024-02-01 21:40:21.552051: W tensorflow/core/common_runtime/gpu/gpu_device.cc:2256] Cannot dlopen some GPU libraries. Please make sure the missing libraries mentioned above are installed properly if you would like to use GPU. Follow the guide at https://www.tensorflow.org/install/gpu for how to download and setup the required libraries for your platform.\n",
      "Skipping registering GPU devices...\n"
     ]
    }
   ],
   "source": [
    "import tensorflow as tf\n",
    "from tensorflow.keras import layers, models\n",
    "from tensorflow.keras.optimizers import Adam\n",
    "\n",
    "anchor_input = tf.keras.Input(shape=(1,), name='anchor', dtype=tf.string)\n",
    "game_input = tf.keras.Input(shape=(1,), name='game', dtype=tf.string)\n",
    "\n",
    "vectorize_layer = layers.TextVectorization(max_tokens=MAX_TOKENS, output_mode='int') \n",
    "vectorize_layer.adapt(anchor_list)\n",
    "A_vectorized = vectorize_layer(anchor_input)\n",
    "B_vectorized = vectorize_layer(game_input)\n",
    "\n",
    "embedding_layer = layers.Embedding(input_dim=MAX_TOKENS, output_dim=128)\n",
    "A_embedded = embedding_layer(A_vectorized)\n",
    "B_embedded = embedding_layer(B_vectorized)\n",
    "\n",
    "shared_lstm = layers.LSTM(64)\n",
    "A_lstm = shared_lstm(A_embedded)\n",
    "B_lstm = shared_lstm(B_embedded)\n",
    "\n",
    "dense1 = layers.Dense(\n",
    "    units=64, \n",
    "    activation='relu')\n",
    "A_dense = dense1(A_lstm)\n",
    "B_dense = dense1(B_lstm)\n",
    "\n",
    "dropout = layers.Dropout(0.5)\n",
    "A_drop = dropout(A_dense)\n",
    "B_drop = dropout(B_dense)\n",
    "\n",
    "dense2 = layers.Dense(\n",
    "    units=16, \n",
    "    activation='relu')\n",
    "A_output = dense2(A_drop)\n",
    "B_output = dense2(B_drop)\n",
    "\n",
    "merged = layers.concatenate(\n",
    "    [A_output, B_output], \n",
    "    axis=-1)\n",
    "\n",
    "dense3 = layers.Dense(\n",
    "    units=NUM_CLASSES, \n",
    "    activation='sigmoid')\n",
    "\n",
    "predictions = dense3(merged)\n",
    "\n",
    "siamese_model = models.Model(inputs=[anchor_input, game_input],\n",
    "                                  outputs=predictions, \n",
    "                                  name='siamese_model')\n",
    "\n",
    "#custom_adam = Adam(learning_rate=0.01)\n",
    "siamese_model.compile(optimizer='adam', \n",
    "                      loss='binary_crossentropy', \n",
    "                      metrics=['accuracy'])\n",
    "\n",
    "siamese_model.summary()"
   ],
   "metadata": {
    "collapsed": false,
    "ExecuteTime": {
     "start_time": "2024-02-01T20:40:16.113693040Z"
    }
   },
   "id": "626140ab8094fc1",
   "execution_count": null
  },
  {
   "cell_type": "code",
   "outputs": [],
   "source": [
    "# from keras.utils import plot_model\n",
    "# \n",
    "# plot_model(siamese_model, to_file='model_plot.png', show_shapes=True, show_layer_names=True)"
   ],
   "metadata": {
    "collapsed": false
   },
   "id": "89f22ed960c4c500",
   "execution_count": null
  },
  {
   "cell_type": "code",
   "outputs": [],
   "source": [
    "# plot_model(siamese_model, to_file='model_plot_without.png', show_shapes=False, show_layer_names=True)"
   ],
   "metadata": {
    "collapsed": false
   },
   "id": "74d3e60d3016fd2",
   "execution_count": null
  },
  {
   "cell_type": "code",
   "outputs": [],
   "source": [
    "# print(np.array(train_anchor).shape)"
   ],
   "metadata": {
    "collapsed": false
   },
   "id": "9e0b1eb4eedea360",
   "execution_count": null
  },
  {
   "cell_type": "code",
   "outputs": [],
   "source": [
    "history = siamese_model.fit(\n",
    "    [np.array(train_anchor), np.array(train_game)],\n",
    "    np.array(train_labels),\n",
    "    epochs=15,\n",
    "    batch_size=64,\n",
    "    use_multiprocessing=True,\n",
    "    workers=10,\n",
    "    shuffle=True,\n",
    "    validation_data=([np.array(val_anchor), np.array(val_game)], np.array(val_labels))\n",
    ")"
   ],
   "metadata": {
    "collapsed": false
   },
   "id": "d285301147f0d730",
   "execution_count": null
  },
  {
   "cell_type": "code",
   "outputs": [],
   "source": [
    "siamese_model.save('siamese_model_v4.keras')"
   ],
   "metadata": {
    "collapsed": false
   },
   "id": "29cfb02f6777637d",
   "execution_count": null
  },
  {
   "cell_type": "code",
   "outputs": [],
   "source": [
    "from matplotlib import pyplot as plt\n",
    "\n",
    "plt.plot(history.history['accuracy'])\n",
    "plt.plot(history.history['val_accuracy'])\n",
    "plt.title('Model Accuracy')\n",
    "plt.ylabel('accuracy')\n",
    "plt.xlabel('epoch')\n",
    "plt.legend(['train', 'val'], loc='upper left')\n",
    "plt.show()"
   ],
   "metadata": {
    "collapsed": false
   },
   "id": "b836adac00f38ebf",
   "execution_count": null
  },
  {
   "cell_type": "code",
   "outputs": [],
   "source": [
    "plt.plot(history.history['loss'])\n",
    "plt.plot(history.history['val_loss'])\n",
    "plt.title('Model Loss')\n",
    "plt.ylabel('loss')\n",
    "plt.xlabel('epoch')\n",
    "plt.legend(['train', 'val'], loc='upper left')\n",
    "plt.show()"
   ],
   "metadata": {
    "collapsed": false
   },
   "id": "22f249de41d81b79",
   "execution_count": null
  },
  {
   "cell_type": "code",
   "outputs": [],
   "source": [
    "test_loss, test_accuracy = siamese_model.evaluate(\n",
    "    (np.array(test_anchor), np.array(test_game)),\n",
    "    np.array(test_labels),\n",
    ")\n",
    "print(f'Test Loss: {test_loss:.4f}, Test Accuracy: {test_accuracy * 100:.2f}%')"
   ],
   "metadata": {
    "collapsed": false
   },
   "id": "4619ea1618471ef4",
   "execution_count": null
  },
  {
   "cell_type": "code",
   "outputs": [],
   "source": [],
   "metadata": {
    "collapsed": false
   },
   "id": "51ab0050bb2765fa",
   "execution_count": null
  }
 ],
 "metadata": {
  "kernelspec": {
   "display_name": "Python 3 (ipykernel)",
   "language": "python",
   "name": "python3"
  },
  "language_info": {
   "codemirror_mode": {
    "name": "ipython",
    "version": 3
   },
   "file_extension": ".py",
   "mimetype": "text/x-python",
   "name": "python",
   "nbconvert_exporter": "python",
   "pygments_lexer": "ipython3",
   "version": "3.10.12"
  }
 },
 "nbformat": 4,
 "nbformat_minor": 5
}
