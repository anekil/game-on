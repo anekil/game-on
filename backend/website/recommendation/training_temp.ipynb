{
 "cells": [
  {
   "cell_type": "markdown",
   "id": "6d020738138ff425",
   "metadata": {
    "collapsed": false
   },
   "source": [
    "## load training triples"
   ]
  },
  {
   "cell_type": "code",
   "outputs": [],
   "source": [
    "import json\n",
    "\n",
    "\n",
    "with open('training_data_pairs_shuffled.json', 'r') as f:\n",
    "    loaded_data = json.load(f)"
   ],
   "metadata": {
    "collapsed": false,
    "ExecuteTime": {
     "start_time": "2024-01-25T09:19:12.629563400Z"
    }
   },
   "id": "3f62c7bdf8b0b036",
   "execution_count": null
  },
  {
   "cell_type": "code",
   "execution_count": null,
   "outputs": [],
   "source": [
    "print(loaded_data[0])"
   ],
   "metadata": {
    "collapsed": false,
    "ExecuteTime": {
     "start_time": "2024-01-25T09:19:12.630603600Z"
    }
   },
   "id": "565ecbc86c523c78"
  },
  {
   "cell_type": "code",
   "execution_count": null,
   "id": "fe509174159f5e9c",
   "metadata": {
    "collapsed": false,
    "ExecuteTime": {
     "start_time": "2024-01-25T09:19:12.632666800Z"
    }
   },
   "outputs": [],
   "source": [
    "len(loaded_data)"
   ]
  },
  {
   "cell_type": "code",
   "execution_count": null,
   "id": "f7877764a8612ce8",
   "metadata": {
    "collapsed": false,
    "ExecuteTime": {
     "end_time": "2024-01-25T09:19:12.637934500Z",
     "start_time": "2024-01-25T09:19:12.633694900Z"
    }
   },
   "outputs": [],
   "source": [
    "import numpy as np\n",
    "import tensorflow as tf\n",
    "from tensorflow.keras.preprocessing.text import Tokenizer\n",
    "from tensorflow.keras.preprocessing.sequence import pad_sequences\n",
    "\n",
    "\n",
    "features_anchor = [entry['anchor']['features'] for entry in loaded_data]\n",
    "#description_anchor = [entry['anchor']['description'] for entry in loaded_data]\n",
    "features_game = [entry['game']['features'] for entry in loaded_data]\n",
    "#description_game = [entry['anchor']['description'] for entry in loaded_data]\n",
    "labels = [entry['label'] for entry in loaded_data]\n",
    "\n",
    "tokenizer_feat = Tokenizer()\n",
    "tokenizer_feat.fit_on_texts(features_anchor + features_game)\n",
    "#tokenizer_desc = Tokenizer()\n",
    "#tokenizer_desc.fit_on_texts(description_anchor + description_game)\n",
    "#vocab_size = max(len(tokenizer_feat.word_index) + 1, len(tokenizer_desc.word_index) + 1)"
   ]
  },
  {
   "cell_type": "code",
   "outputs": [
    {
     "name": "stdout",
     "output_type": "stream",
     "text": [
      "67775\n"
     ]
    }
   ],
   "source": [
    "vocab_size = len(tokenizer_feat.word_index) + 1 #len(tokenizer_desc.word_index) + 1\n",
    "print(vocab_size)"
   ],
   "metadata": {
    "collapsed": false,
    "ExecuteTime": {
     "end_time": "2024-01-25T09:20:13.526355600Z",
     "start_time": "2024-01-25T09:20:13.515456500Z"
    }
   },
   "id": "63667197c8ef624a",
   "execution_count": 7
  },
  {
   "cell_type": "code",
   "outputs": [
    {
     "name": "stdout",
     "output_type": "stream",
     "text": [
      "3786 21299\n"
     ]
    }
   ],
   "source": [
    "max_length_feat = max(\n",
    "        max(len(seq) for seq in features_anchor),\n",
    "        max(len(seq) for seq in features_game)\n",
    "    )\n",
    "# max_length_desc = max(\n",
    "#         max(len(seq) for seq in description_anchor),\n",
    "#         max(len(seq) for seq in description_game)\n",
    "#     )\n",
    "# print(max_length_feat, max_length_desc)"
   ],
   "metadata": {
    "collapsed": false,
    "ExecuteTime": {
     "end_time": "2024-01-25T09:20:29.066688400Z",
     "start_time": "2024-01-25T09:20:28.932907200Z"
    }
   },
   "id": "5e103c9caa94759f",
   "execution_count": 9
  },
  {
   "cell_type": "code",
   "outputs": [],
   "source": [
    "def tokenize_and_pad(sequences, tokenizer, max_length):\n",
    "    tokenized_sequences = tokenizer.texts_to_sequences(sequences)\n",
    "    padded_sequences = pad_sequences(tokenized_sequences, maxlen=max_length, padding='post')\n",
    "    return padded_sequences\n",
    "\n",
    "\n",
    "features_anchor = tokenize_and_pad(features_anchor, tokenizer_feat, max_length_feat)\n",
    "features_game = tokenize_and_pad(features_game, tokenizer_feat, max_length_feat)\n",
    "# description_anchor = tokenize_and_pad(description_anchor, tokenizer_desc, max_length_desc)\n",
    "# description_game = tokenize_and_pad(description_game, tokenizer_desc, max_length_desc)\n",
    "\n",
    "print(features_anchor[0])"
   ],
   "metadata": {
    "collapsed": false
   },
   "id": "2d621a978a3f2c1b",
   "execution_count": null
  },
  {
   "cell_type": "code",
   "outputs": [
    {
     "ename": "KeyboardInterrupt",
     "evalue": "",
     "output_type": "error",
     "traceback": [
      "\u001B[1;31m---------------------------------------------------------------------------\u001B[0m",
      "\u001B[1;31mKeyboardInterrupt\u001B[0m                         Traceback (most recent call last)",
      "Cell \u001B[1;32mIn[5], line 8\u001B[0m\n\u001B[0;32m      3\u001B[0m X_anchor \u001B[38;5;241m=\u001B[39m np\u001B[38;5;241m.\u001B[39mconcatenate([np\u001B[38;5;241m.\u001B[39marray([[i\u001B[38;5;241m+\u001B[39m\u001B[38;5;241m1\u001B[39m] \u001B[38;5;28;01mfor\u001B[39;00m i \u001B[38;5;129;01min\u001B[39;00m \u001B[38;5;28mrange\u001B[39m(\u001B[38;5;28mlen\u001B[39m(features_anchor))]), description_anchor, features_anchor], axis\u001B[38;5;241m=\u001B[39m\u001B[38;5;241m1\u001B[39m)\n\u001B[0;32m      4\u001B[0m X_game \u001B[38;5;241m=\u001B[39m np\u001B[38;5;241m.\u001B[39mconcatenate([np\u001B[38;5;241m.\u001B[39marray([[i\u001B[38;5;241m+\u001B[39m\u001B[38;5;241m1\u001B[39m] \u001B[38;5;28;01mfor\u001B[39;00m i \u001B[38;5;129;01min\u001B[39;00m \u001B[38;5;28mrange\u001B[39m(\u001B[38;5;28mlen\u001B[39m(features_game))]), description_game, features_game], axis\u001B[38;5;241m=\u001B[39m\u001B[38;5;241m1\u001B[39m)\n\u001B[0;32m      7\u001B[0m X_train_anchor, X_temp_anchor, X_train_game, X_temp_game, y_train, y_temp \u001B[38;5;241m=\u001B[39m train_test_split(\n\u001B[1;32m----> 8\u001B[0m     \u001B[43mnp\u001B[49m\u001B[38;5;241;43m.\u001B[39;49m\u001B[43marray\u001B[49m\u001B[43m(\u001B[49m\u001B[43mX_anchor\u001B[49m\u001B[43m)\u001B[49m,\n\u001B[0;32m      9\u001B[0m     np\u001B[38;5;241m.\u001B[39marray(X_game),\n\u001B[0;32m     10\u001B[0m     np\u001B[38;5;241m.\u001B[39marray(labels),\n\u001B[0;32m     11\u001B[0m     test_size\u001B[38;5;241m=\u001B[39m\u001B[38;5;241m0.3\u001B[39m,\n\u001B[0;32m     12\u001B[0m     random_state\u001B[38;5;241m=\u001B[39m\u001B[38;5;241m42\u001B[39m\n\u001B[0;32m     13\u001B[0m )\n\u001B[0;32m     15\u001B[0m X_val_anchor, X_test_anchor, X_val_game, X_test_game, y_val, y_test \u001B[38;5;241m=\u001B[39m train_test_split(\n\u001B[0;32m     16\u001B[0m     np\u001B[38;5;241m.\u001B[39marray(X_temp_anchor),\n\u001B[0;32m     17\u001B[0m     np\u001B[38;5;241m.\u001B[39marray(X_temp_game),\n\u001B[1;32m   (...)\u001B[0m\n\u001B[0;32m     20\u001B[0m     random_state\u001B[38;5;241m=\u001B[39m\u001B[38;5;241m42\u001B[39m\n\u001B[0;32m     21\u001B[0m )\n\u001B[0;32m     23\u001B[0m \u001B[38;5;66;03m# Print the shapes\u001B[39;00m\n",
      "\u001B[1;31mKeyboardInterrupt\u001B[0m: "
     ]
    }
   ],
   "source": [
    "from sklearn.model_selection import train_test_split\n",
    "\n",
    "#X_anchor = np.concatenate([np.array([[i+1] for i in range(len(features_anchor))]), description_anchor, features_anchor], axis=1)\n",
    "#X_game = np.concatenate([np.array([[i+1] for i in range(len(features_game))]), description_game, features_game], axis=1)\n",
    "\n",
    "\n",
    "X_train_anchor, X_temp_anchor, X_train_game, X_temp_game, y_train, y_temp = train_test_split(\n",
    "    np.array(X_anchor),\n",
    "    np.array(X_game),\n",
    "    np.array(labels),\n",
    "    test_size=0.3,\n",
    "    random_state=42\n",
    ")\n",
    "\n",
    "X_val_anchor, X_test_anchor, X_val_game, X_test_game, y_val, y_test = train_test_split(\n",
    "    np.array(X_temp_anchor),\n",
    "    np.array(X_temp_game),\n",
    "    np.array(y_temp),\n",
    "    test_size=0.5,\n",
    "    random_state=42\n",
    ")\n",
    "\n",
    "# Print the shapes\n",
    "print(\"Training shapes:\", X_train_anchor.shape, X_train_game.shape, y_train.shape)\n",
    "print(\"Validation shapes:\", X_val_anchor.shape, X_val_game.shape, y_val.shape)\n",
    "print(\"Test shapes:\", X_test_anchor.shape, X_test_game.shape, y_test.shape)"
   ],
   "metadata": {
    "collapsed": false
   },
   "id": "2d9dcc5f31f4cbe7",
   "execution_count": 5
  },
  {
   "cell_type": "code",
   "execution_count": null,
   "id": "a221ce5d48d0484c",
   "metadata": {
    "collapsed": false,
    "ExecuteTime": {
     "end_time": "2024-01-25T09:19:12.616091400Z",
     "start_time": "2024-01-25T09:19:12.610823400Z"
    }
   },
   "outputs": [],
   "source": [
    "\n",
    "from tensorflow.keras import layers, models\n",
    "from tensorflow.keras.optimizers import Adam\n",
    "\n",
    "\n",
    "# Define the Siamese network architecture\n",
    "def build_siamese_network(input_shape, vocab_size):\n",
    "    model = models.Sequential()\n",
    "    model.add(layers.Embedding(input_dim=vocab_size, output_dim=128, input_length=input_shape))\n",
    "    model.add(layers.LSTM(64))\n",
    "    model.add(layers.Dense(32, activation='relu'))\n",
    "    model.add(layers.Dropout(0.5))\n",
    "    model.add(layers.Dense(16, activation='relu'))\n",
    "    return model\n",
    "\n",
    "# Define the input shapes\n",
    "input_shape = max_sequence_length\n",
    "\n",
    "# Create the Siamese network\n",
    "anchor_input = tf.keras.Input(shape=(input_shape,), name='anchor')\n",
    "game_input = tf.keras.Input(shape=(input_shape,), name='game')\n",
    "\n",
    "siamese_network = build_siamese_network(input_shape, vocab_size)\n",
    "\n",
    "# Generate the encodings (feature vectors) for the anchor and game\n",
    "encoded_anchor = siamese_network(anchor_input)\n",
    "encoded_game = siamese_network(game_input)\n",
    "\n",
    "# Calculate the similarity between the anchor and game\n",
    "similarity = layers.Dot(axes=1, normalize=True)([encoded_anchor, encoded_game])\n",
    "\n",
    "# Create the Siamese model\n",
    "siamese_model = tf.keras.Model(inputs=[anchor_input, game_input], outputs=similarity)\n",
    "\n",
    "# Compile the Siamese model with binary crossentropy loss\n",
    "# custom_adam = Adam(learning_rate=0.001)\n",
    "siamese_model.compile(loss='binary_crossentropy', optimizer='adam', metrics=['accuracy'])\n",
    "\n",
    "# Print the model summary\n",
    "print(siamese_model.summary())"
   ]
  },
  {
   "cell_type": "code",
   "execution_count": null,
   "id": "98f2544429f155fe",
   "metadata": {
    "collapsed": false,
    "ExecuteTime": {
     "start_time": "2024-01-25T09:19:12.612966Z"
    }
   },
   "outputs": [],
   "source": [
    "train_anchor = np.array(train_anchor)\n",
    "train_game = np.array(train_game)\n",
    "train_labels = np.array(train_labels)\n",
    "\n",
    "val_anchor = np.array(val_anchor)\n",
    "val_game = np.array(val_game)\n",
    "val_labels = np.array(val_labels)"
   ]
  },
  {
   "cell_type": "code",
   "execution_count": null,
   "id": "cf9f1817c9dee6a0",
   "metadata": {
    "collapsed": false,
    "ExecuteTime": {
     "start_time": "2024-01-25T09:19:12.615056600Z"
    }
   },
   "outputs": [],
   "source": [
    "# Train the Siamese model with your padded_sequences_anchor, padded_sequences_game, and labels\n",
    "siamese_model.fit(\n",
    "    [train_anchor, train_game],\n",
    "    train_labels,\n",
    "    epochs=10,\n",
    "    batch_size=128,\n",
    "    #validation_split=0.2,\n",
    "    use_multiprocessing=True,\n",
    "    workers=10,\n",
    "    validation_data=([val_anchor, val_game], val_labels)\n",
    ")"
   ]
  },
  {
   "cell_type": "code",
   "execution_count": null,
   "outputs": [],
   "source": [
    "from tensorflow.keras.models import save_model\n",
    "\n",
    "siamese_model.save('siamese_model.keras')"
   ],
   "metadata": {
    "collapsed": false,
    "ExecuteTime": {
     "end_time": "2024-01-25T09:19:12.618168300Z",
     "start_time": "2024-01-25T09:19:12.617134Z"
    }
   },
   "id": "b8fcab060c86be1a"
  },
  {
   "cell_type": "code",
   "execution_count": null,
   "outputs": [],
   "source": [
    "# Evaluate the model on the test set\n",
    "test_loss, test_accuracy = siamese_model.evaluate(\n",
    "    (test_anchor, test_game),\n",
    "    np.array(test_labels),\n",
    ")\n",
    "print(f'Test Loss: {test_loss:.4f}, Test Accuracy: {test_accuracy * 100:.2f}%')"
   ],
   "metadata": {
    "collapsed": false,
    "ExecuteTime": {
     "start_time": "2024-01-25T09:19:12.618168300Z"
    }
   },
   "id": "4cf6ebc8a2cf51f9"
  },
  {
   "cell_type": "code",
   "execution_count": null,
   "outputs": [],
   "source": [
    "# from tensorflow.keras.models import load_model\n",
    "# \n",
    "# siamese_model = load_model(\"siamese_model.h5\")"
   ],
   "metadata": {
    "collapsed": false,
    "ExecuteTime": {
     "end_time": "2024-01-25T09:19:12.624400200Z",
     "start_time": "2024-01-25T09:19:12.620238400Z"
    }
   },
   "id": "164b6acd23a6e1d5"
  },
  {
   "cell_type": "code",
   "execution_count": null,
   "outputs": [],
   "source": [
    "# get item by id\n",
    "# anchor_game = {'id': 26715, 'features': 'Adventure Arcade Indie Platform Racing Action abstract cyberpunk fastpaced precisionplatforming shootemup speedrunmode superhero'}\n",
    "# \n",
    "# item_sequences = tokenizer.texts_to_sequences([anchor_game['features']])\n",
    "# padded_item_sequences = pad_sequences(item_sequences, maxlen=max_sequence_length, padding='post')"
   ],
   "metadata": {
    "collapsed": false,
    "ExecuteTime": {
     "start_time": "2024-01-25T09:19:12.622326100Z"
    }
   },
   "id": "d3648608926eccdb"
  },
  {
   "cell_type": "code",
   "execution_count": null,
   "outputs": [],
   "source": [
    "# get all items"
   ],
   "metadata": {
    "collapsed": false,
    "ExecuteTime": {
     "end_time": "2024-01-25T09:19:12.625435800Z",
     "start_time": "2024-01-25T09:19:12.624400200Z"
    }
   },
   "id": "4686ed6d1900a7df"
  }
 ],
 "metadata": {
  "kernelspec": {
   "display_name": "Python 3 (ipykernel)",
   "language": "python",
   "name": "python3"
  },
  "language_info": {
   "codemirror_mode": {
    "name": "ipython",
    "version": 3
   },
   "file_extension": ".py",
   "mimetype": "text/x-python",
   "name": "python",
   "nbconvert_exporter": "python",
   "pygments_lexer": "ipython3",
   "version": "3.10.12"
  }
 },
 "nbformat": 4,
 "nbformat_minor": 5
}
