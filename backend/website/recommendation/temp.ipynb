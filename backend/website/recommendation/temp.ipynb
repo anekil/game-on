{
 "cells": [
  {
   "cell_type": "code",
   "execution_count": 24,
   "id": "initial_id",
   "metadata": {
    "collapsed": true,
    "ExecuteTime": {
     "end_time": "2024-01-27T19:04:55.729411854Z",
     "start_time": "2024-01-27T19:04:53.905453210Z"
    }
   },
   "outputs": [
    {
     "data": {
      "text/plain": "shape: (5, 5)\n┌───────┬───────────┬─────────────────────────────┬─────────┬───────────────────────────────────┐\n│ label ┆ anchor_id ┆ anchor_features             ┆ game_id ┆ game_features                     │\n│ ---   ┆ ---       ┆ ---                         ┆ ---     ┆ ---                               │\n│ i64   ┆ i64       ┆ str                         ┆ i64     ┆ str                               │\n╞═══════╪═══════════╪═════════════════════════════╪═════════╪═══════════════════════════════════╡\n│ 1     ┆ 1         ┆ Adventure Shooter Simulator ┆ 2       ┆ Adventure Simulator Action Fanta… │\n│       ┆           ┆ Acti…                       ┆         ┆                                   │\n│ 1     ┆ 1         ┆ Adventure Shooter Simulator ┆ 3       ┆ Adventure Shooter Simulator Acti… │\n│       ┆           ┆ Acti…                       ┆         ┆                                   │\n│ 1     ┆ 1         ┆ Adventure Shooter Simulator ┆ 4       ┆ Adventure Shooter Action Sandbox… │\n│       ┆           ┆ Acti…                       ┆         ┆                                   │\n│ 1     ┆ 1         ┆ Adventure Shooter Simulator ┆ 471     ┆ Adventure Shooter Action Science… │\n│       ┆           ┆ Acti…                       ┆         ┆                                   │\n│ 1     ┆ 1         ┆ Adventure Shooter Simulator ┆ 9377    ┆ Adventure Shooter Action Stealth… │\n│       ┆           ┆ Acti…                       ┆         ┆                                   │\n└───────┴───────────┴─────────────────────────────┴─────────┴───────────────────────────────────┘",
      "text/html": "<div><style>\n.dataframe > thead > tr,\n.dataframe > tbody > tr {\n  text-align: right;\n  white-space: pre-wrap;\n}\n</style>\n<small>shape: (5, 5)</small><table border=\"1\" class=\"dataframe\"><thead><tr><th>label</th><th>anchor_id</th><th>anchor_features</th><th>game_id</th><th>game_features</th></tr><tr><td>i64</td><td>i64</td><td>str</td><td>i64</td><td>str</td></tr></thead><tbody><tr><td>1</td><td>1</td><td>&quot;Adventure Shoo…</td><td>2</td><td>&quot;Adventure Simu…</td></tr><tr><td>1</td><td>1</td><td>&quot;Adventure Shoo…</td><td>3</td><td>&quot;Adventure Shoo…</td></tr><tr><td>1</td><td>1</td><td>&quot;Adventure Shoo…</td><td>4</td><td>&quot;Adventure Shoo…</td></tr><tr><td>1</td><td>1</td><td>&quot;Adventure Shoo…</td><td>471</td><td>&quot;Adventure Shoo…</td></tr><tr><td>1</td><td>1</td><td>&quot;Adventure Shoo…</td><td>9377</td><td>&quot;Adventure Shoo…</td></tr></tbody></table></div>"
     },
     "execution_count": 24,
     "metadata": {},
     "output_type": "execute_result"
    }
   ],
   "source": [
    "import json\n",
    "import polars as pl\n",
    "\n",
    "with open('training_data_pairs_shuffled.json', 'r') as f:\n",
    "    loaded_data = json.load(f)\n",
    "     \n",
    "#loaded_data = loaded_data['train_data'] + loaded_data['test_data'] + loaded_data['val_data']\n",
    "\n",
    "label_list = []\n",
    "anchor_id_list = []\n",
    "anchor_features_list = []\n",
    "game_id_list = []\n",
    "game_features_list = []\n",
    "\n",
    "for entry in loaded_data:\n",
    "    label_list.append(entry['label'])\n",
    "    anchor_id_list.append(entry['anchor']['id'])\n",
    "    anchor_features_list.append(entry['anchor']['features'])\n",
    "    game_id_list.append(entry['game']['id'])\n",
    "    game_features_list.append(entry['game']['features'])\n",
    "\n",
    "data = {\n",
    "    'label': label_list,\n",
    "    'anchor_id': anchor_id_list,\n",
    "    'anchor_features': anchor_features_list,\n",
    "    'game_id': game_id_list,\n",
    "    'game_features': game_features_list\n",
    "}\n",
    "\n",
    "df = pl.DataFrame(data)\n",
    "df.head()"
   ]
  },
  {
   "cell_type": "code",
   "outputs": [
    {
     "data": {
      "text/plain": "shape: (283_131, 5)\n┌───────┬───────────┬──────────────────────────────┬─────────┬─────────────────────────────────────┐\n│ label ┆ anchor_id ┆ anchor_features              ┆ game_id ┆ game_features                       │\n│ ---   ┆ ---       ┆ ---                          ┆ ---     ┆ ---                                 │\n│ i64   ┆ i64       ┆ str                          ┆ i64     ┆ str                                 │\n╞═══════╪═══════════╪══════════════════════════════╪═════════╪═════════════════════════════════════╡\n│ 1     ┆ 1         ┆ Adventure Shooter Simulator  ┆ 2       ┆ Adventure Simulator Action Fanta…   │\n│       ┆           ┆ Acti…                        ┆         ┆                                     │\n│ 1     ┆ 1         ┆ Adventure Shooter Simulator  ┆ 3       ┆ Adventure Shooter Simulator Acti…   │\n│       ┆           ┆ Acti…                        ┆         ┆                                     │\n│ 1     ┆ 1         ┆ Adventure Shooter Simulator  ┆ 4       ┆ Adventure Shooter Action Sandbox…   │\n│       ┆           ┆ Acti…                        ┆         ┆                                     │\n│ 1     ┆ 1         ┆ Adventure Shooter Simulator  ┆ 471     ┆ Adventure Shooter Action Science…   │\n│       ┆           ┆ Acti…                        ┆         ┆                                     │\n│ 1     ┆ 1         ┆ Adventure Shooter Simulator  ┆ 9377    ┆ Adventure Shooter Action Stealth…   │\n│       ┆           ┆ Acti…                        ┆         ┆                                     │\n│ …     ┆ …         ┆ …                            ┆ …       ┆ …                                   │\n│ 0     ┆ 281275    ┆ Indie Horror russianroulette ┆ 4500    ┆ Platform Action                     │\n│ 0     ┆ 281275    ┆ Indie Horror russianroulette ┆ 4851    ┆ Adventure Indie Puzzle Roleplayi…   │\n│ 0     ┆ 281275    ┆ Indie Horror russianroulette ┆ 4738    ┆ Shooter Simulator Sport Action H…   │\n│ 0     ┆ 281275    ┆ Indie Horror russianroulette ┆ 4236    ┆ Arcade Puzzle Strategy Action Co…   │\n│ 0     ┆ 281275    ┆ Indie Horror russianroulette ┆ 4056    ┆ Arcade Strategy Action Kids Part…   │\n└───────┴───────────┴──────────────────────────────┴─────────┴─────────────────────────────────────┘",
      "text/html": "<div><style>\n.dataframe > thead > tr,\n.dataframe > tbody > tr {\n  text-align: right;\n  white-space: pre-wrap;\n}\n</style>\n<small>shape: (283_131, 5)</small><table border=\"1\" class=\"dataframe\"><thead><tr><th>label</th><th>anchor_id</th><th>anchor_features</th><th>game_id</th><th>game_features</th></tr><tr><td>i64</td><td>i64</td><td>str</td><td>i64</td><td>str</td></tr></thead><tbody><tr><td>1</td><td>1</td><td>&quot;Adventure Shoo…</td><td>2</td><td>&quot;Adventure Simu…</td></tr><tr><td>1</td><td>1</td><td>&quot;Adventure Shoo…</td><td>3</td><td>&quot;Adventure Shoo…</td></tr><tr><td>1</td><td>1</td><td>&quot;Adventure Shoo…</td><td>4</td><td>&quot;Adventure Shoo…</td></tr><tr><td>1</td><td>1</td><td>&quot;Adventure Shoo…</td><td>471</td><td>&quot;Adventure Shoo…</td></tr><tr><td>1</td><td>1</td><td>&quot;Adventure Shoo…</td><td>9377</td><td>&quot;Adventure Shoo…</td></tr><tr><td>1</td><td>1</td><td>&quot;Adventure Shoo…</td><td>17379</td><td>&quot;Adventure Indi…</td></tr><tr><td>1</td><td>1</td><td>&quot;Adventure Shoo…</td><td>36198</td><td>&quot;Adventure Indi…</td></tr><tr><td>1</td><td>1</td><td>&quot;Adventure Shoo…</td><td>47823</td><td>&quot;Adventure Indi…</td></tr><tr><td>1</td><td>1</td><td>&quot;Adventure Shoo…</td><td>55038</td><td>&quot;Adventure Role…</td></tr><tr><td>1</td><td>1</td><td>&quot;Adventure Shoo…</td><td>105049</td><td>&quot;Adventure Role…</td></tr><tr><td>1</td><td>2</td><td>&quot;Adventure Simu…</td><td>1</td><td>&quot;Adventure Shoo…</td></tr><tr><td>1</td><td>2</td><td>&quot;Adventure Simu…</td><td>3</td><td>&quot;Adventure Shoo…</td></tr><tr><td>&hellip;</td><td>&hellip;</td><td>&hellip;</td><td>&hellip;</td><td>&hellip;</td></tr><tr><td>0</td><td>275159</td><td>&quot;Shooter Action…</td><td>2639</td><td>&quot;Adventure Hack…</td></tr><tr><td>0</td><td>275159</td><td>&quot;Shooter Action…</td><td>2483</td><td>&quot;Racing Simulat…</td></tr><tr><td>0</td><td>275923</td><td>&quot;Indie Roleplay…</td><td>2827</td><td>&quot;Platform Actio…</td></tr><tr><td>0</td><td>275923</td><td>&quot;Indie Roleplay…</td><td>2184</td><td>&quot;Adventure Plat…</td></tr><tr><td>0</td><td>275923</td><td>&quot;Indie Roleplay…</td><td>2835</td><td>&quot;Platform Puzzl…</td></tr><tr><td>0</td><td>275923</td><td>&quot;Indie Roleplay…</td><td>2109</td><td>&quot;Adventure Plat…</td></tr><tr><td>0</td><td>275923</td><td>&quot;Indie Roleplay…</td><td>1884</td><td>&quot;Indie Racing A…</td></tr><tr><td>0</td><td>281275</td><td>&quot;Indie Horror r…</td><td>4500</td><td>&quot;Platform Actio…</td></tr><tr><td>0</td><td>281275</td><td>&quot;Indie Horror r…</td><td>4851</td><td>&quot;Adventure Indi…</td></tr><tr><td>0</td><td>281275</td><td>&quot;Indie Horror r…</td><td>4738</td><td>&quot;Shooter Simula…</td></tr><tr><td>0</td><td>281275</td><td>&quot;Indie Horror r…</td><td>4236</td><td>&quot;Arcade Puzzle …</td></tr><tr><td>0</td><td>281275</td><td>&quot;Indie Horror r…</td><td>4056</td><td>&quot;Arcade Strateg…</td></tr></tbody></table></div>"
     },
     "execution_count": 25,
     "metadata": {},
     "output_type": "execute_result"
    }
   ],
   "source": [
    "df"
   ],
   "metadata": {
    "collapsed": false,
    "ExecuteTime": {
     "end_time": "2024-01-27T19:04:55.739241393Z",
     "start_time": "2024-01-27T19:04:55.731291364Z"
    }
   },
   "id": "9c0b7e0e3e91e039",
   "execution_count": 25
  },
  {
   "cell_type": "code",
   "outputs": [],
   "source": [
    "import seaborn as sns\n",
    "import matplotlib.pyplot as plt\n",
    "\n",
    "\n",
    "df = df.with_columns(pl.col('anchor_features').map_elements(lambda x: len(x.split())).alias('anchor_features_len'))\n",
    "df = df.with_columns(pl.col('game_features').map_elements(lambda x: len(x.split())).alias('game_features_len'))"
   ],
   "metadata": {
    "collapsed": false,
    "ExecuteTime": {
     "end_time": "2024-01-27T19:04:56.263534854Z",
     "start_time": "2024-01-27T19:04:55.751981419Z"
    }
   },
   "id": "ceee4f3932b8db04",
   "execution_count": 26
  },
  {
   "cell_type": "code",
   "outputs": [
    {
     "data": {
      "text/plain": "shape: (5, 7)\n┌───────┬───────────┬─────────────────┬─────────┬────────────────┬────────────────┬────────────────┐\n│ label ┆ anchor_id ┆ anchor_features ┆ game_id ┆ game_features  ┆ anchor_feature ┆ game_features_ │\n│ ---   ┆ ---       ┆ ---             ┆ ---     ┆ ---            ┆ s_len          ┆ len            │\n│ i64   ┆ i64       ┆ str             ┆ i64     ┆ str            ┆ ---            ┆ ---            │\n│       ┆           ┆                 ┆         ┆                ┆ i64            ┆ i64            │\n╞═══════╪═══════════╪═════════════════╪═════════╪════════════════╪════════════════╪════════════════╡\n│ 1     ┆ 1         ┆ Adventure       ┆ 2       ┆ Adventure      ┆ 32             ┆ 44             │\n│       ┆           ┆ Shooter         ┆         ┆ Simulator      ┆                ┆                │\n│       ┆           ┆ Simulator Acti… ┆         ┆ Action Fanta…  ┆                ┆                │\n│ 1     ┆ 1         ┆ Adventure       ┆ 3       ┆ Adventure      ┆ 32             ┆ 45             │\n│       ┆           ┆ Shooter         ┆         ┆ Shooter        ┆                ┆                │\n│       ┆           ┆ Simulator Acti… ┆         ┆ Simulator      ┆                ┆                │\n│       ┆           ┆                 ┆         ┆ Acti…          ┆                ┆                │\n│ 1     ┆ 1         ┆ Adventure       ┆ 4       ┆ Adventure      ┆ 32             ┆ 41             │\n│       ┆           ┆ Shooter         ┆         ┆ Shooter Action ┆                ┆                │\n│       ┆           ┆ Simulator Acti… ┆         ┆ Sandbox…       ┆                ┆                │\n│ 1     ┆ 1         ┆ Adventure       ┆ 471     ┆ Adventure      ┆ 32             ┆ 19             │\n│       ┆           ┆ Shooter         ┆         ┆ Shooter Action ┆                ┆                │\n│       ┆           ┆ Simulator Acti… ┆         ┆ Science…       ┆                ┆                │\n│ 1     ┆ 1         ┆ Adventure       ┆ 9377    ┆ Adventure      ┆ 32             ┆ 31             │\n│       ┆           ┆ Shooter         ┆         ┆ Shooter Action ┆                ┆                │\n│       ┆           ┆ Simulator Acti… ┆         ┆ Stealth…       ┆                ┆                │\n└───────┴───────────┴─────────────────┴─────────┴────────────────┴────────────────┴────────────────┘",
      "text/html": "<div><style>\n.dataframe > thead > tr,\n.dataframe > tbody > tr {\n  text-align: right;\n  white-space: pre-wrap;\n}\n</style>\n<small>shape: (5, 7)</small><table border=\"1\" class=\"dataframe\"><thead><tr><th>label</th><th>anchor_id</th><th>anchor_features</th><th>game_id</th><th>game_features</th><th>anchor_features_len</th><th>game_features_len</th></tr><tr><td>i64</td><td>i64</td><td>str</td><td>i64</td><td>str</td><td>i64</td><td>i64</td></tr></thead><tbody><tr><td>1</td><td>1</td><td>&quot;Adventure Shoo…</td><td>2</td><td>&quot;Adventure Simu…</td><td>32</td><td>44</td></tr><tr><td>1</td><td>1</td><td>&quot;Adventure Shoo…</td><td>3</td><td>&quot;Adventure Shoo…</td><td>32</td><td>45</td></tr><tr><td>1</td><td>1</td><td>&quot;Adventure Shoo…</td><td>4</td><td>&quot;Adventure Shoo…</td><td>32</td><td>41</td></tr><tr><td>1</td><td>1</td><td>&quot;Adventure Shoo…</td><td>471</td><td>&quot;Adventure Shoo…</td><td>32</td><td>19</td></tr><tr><td>1</td><td>1</td><td>&quot;Adventure Shoo…</td><td>9377</td><td>&quot;Adventure Shoo…</td><td>32</td><td>31</td></tr></tbody></table></div>"
     },
     "execution_count": 27,
     "metadata": {},
     "output_type": "execute_result"
    }
   ],
   "source": [
    "df.head()"
   ],
   "metadata": {
    "collapsed": false,
    "ExecuteTime": {
     "end_time": "2024-01-27T19:04:56.269227510Z",
     "start_time": "2024-01-27T19:04:56.263427442Z"
    }
   },
   "id": "c01ad9f4daaae726",
   "execution_count": 27
  },
  {
   "cell_type": "code",
   "outputs": [],
   "source": [
    "plot_data = df.drop(['label', 'anchor_id', 'anchor_features', 'game_id', 'game_features'])\n",
    "plot_data = plot_data.sort(pl.col('anchor_features_len'))"
   ],
   "metadata": {
    "collapsed": false,
    "ExecuteTime": {
     "end_time": "2024-01-27T19:04:56.278451719Z",
     "start_time": "2024-01-27T19:04:56.267871674Z"
    }
   },
   "id": "1d5bafc8db207801",
   "execution_count": 28
  },
  {
   "cell_type": "code",
   "outputs": [
    {
     "data": {
      "text/plain": "shape: (27, 7)\n┌───────┬───────────┬─────────────────┬─────────┬───────────────┬─────────────────┬────────────────┐\n│ label ┆ anchor_id ┆ anchor_features ┆ game_id ┆ game_features ┆ anchor_features ┆ game_features_ │\n│ ---   ┆ ---       ┆ ---             ┆ ---     ┆ ---           ┆ _len            ┆ len            │\n│ i64   ┆ i64       ┆ str             ┆ i64     ┆ str           ┆ ---             ┆ ---            │\n│       ┆           ┆                 ┆         ┆               ┆ i64             ┆ i64            │\n╞═══════╪═══════════╪═════════════════╪═════════╪═══════════════╪═════════════════╪════════════════╡\n│ 0     ┆ 1243      ┆ Fighting Action ┆ 10695   ┆               ┆ 51              ┆ 0              │\n│       ┆           ┆ adaptedtoanime  ┆         ┆               ┆                 ┆                │\n│       ┆           ┆ a…              ┆         ┆               ┆                 ┆                │\n│ 0     ┆ 1415      ┆ Fighting Action ┆ 4814    ┆               ┆ 12              ┆ 0              │\n│       ┆           ┆ bossfight       ┆         ┆               ┆                 ┆                │\n│       ┆           ┆ comeba…         ┆         ┆               ┆                 ┆                │\n│ 0     ┆ 2132      ┆ Adventure Indie ┆ 10698   ┆               ┆ 136             ┆ 0              │\n│       ┆           ┆ RoleplayingRPG  ┆         ┆               ┆                 ┆                │\n│       ┆           ┆ S…              ┆         ┆               ┆                 ┆                │\n│ 0     ┆ 3077      ┆ Shooter         ┆ 10695   ┆               ┆ 27              ┆ 0              │\n│       ┆           ┆ Simulator       ┆         ┆               ┆                 ┆                │\n│       ┆           ┆ Strategy Tacti… ┆         ┆               ┆                 ┆                │\n│ 0     ┆ 3870      ┆ Adventure       ┆ 10698   ┆               ┆ 12              ┆ 0              │\n│       ┆           ┆ RoleplayingRPG  ┆         ┆               ┆                 ┆                │\n│       ┆           ┆ Shooter…        ┆         ┆               ┆                 ┆                │\n│ …     ┆ …         ┆ …               ┆ …       ┆ …             ┆ …               ┆ …              │\n│ 0     ┆ 86269     ┆ CardBoardGame   ┆ 10695   ┆               ┆ 7               ┆ 0              │\n│       ┆           ┆ Simulator       ┆         ┆               ┆                 ┆                │\n│       ┆           ┆ Strategy…       ┆         ┆               ┆                 ┆                │\n│ 0     ┆ 96032     ┆ Adventure Hacka ┆ 10698   ┆               ┆ 12              ┆ 0              │\n│       ┆           ┆ ndslashBeatemup ┆         ┆               ┆                 ┆                │\n│       ┆           ┆ R…              ┆         ┆               ┆                 ┆                │\n│ 0     ┆ 96204     ┆ Adventure Indie ┆ 4814    ┆               ┆ 10              ┆ 0              │\n│       ┆           ┆ RealTimeStrateg ┆         ┆               ┆                 ┆                │\n│       ┆           ┆ y…              ┆         ┆               ┆                 ┆                │\n│ 0     ┆ 109245    ┆ Adventure Indie ┆ 10695   ┆               ┆ 7               ┆ 0              │\n│       ┆           ┆ Puzzle Action   ┆         ┆               ┆                 ┆                │\n│       ┆           ┆ Ho…             ┆         ┆               ┆                 ┆                │\n│ 0     ┆ 144983    ┆ Sport Strategy  ┆ 10695   ┆               ┆ 3               ┆ 0              │\n│       ┆           ┆ Action          ┆         ┆               ┆                 ┆                │\n└───────┴───────────┴─────────────────┴─────────┴───────────────┴─────────────────┴────────────────┘",
      "text/html": "<div><style>\n.dataframe > thead > tr,\n.dataframe > tbody > tr {\n  text-align: right;\n  white-space: pre-wrap;\n}\n</style>\n<small>shape: (27, 7)</small><table border=\"1\" class=\"dataframe\"><thead><tr><th>label</th><th>anchor_id</th><th>anchor_features</th><th>game_id</th><th>game_features</th><th>anchor_features_len</th><th>game_features_len</th></tr><tr><td>i64</td><td>i64</td><td>str</td><td>i64</td><td>str</td><td>i64</td><td>i64</td></tr></thead><tbody><tr><td>0</td><td>1243</td><td>&quot;Fighting Actio…</td><td>10695</td><td>&quot;  &quot;</td><td>51</td><td>0</td></tr><tr><td>0</td><td>1415</td><td>&quot;Fighting Actio…</td><td>4814</td><td>&quot;  &quot;</td><td>12</td><td>0</td></tr><tr><td>0</td><td>2132</td><td>&quot;Adventure Indi…</td><td>10698</td><td>&quot;  &quot;</td><td>136</td><td>0</td></tr><tr><td>0</td><td>3077</td><td>&quot;Shooter Simula…</td><td>10695</td><td>&quot;  &quot;</td><td>27</td><td>0</td></tr><tr><td>0</td><td>3870</td><td>&quot;Adventure Role…</td><td>10698</td><td>&quot;  &quot;</td><td>12</td><td>0</td></tr><tr><td>0</td><td>5501</td><td>&quot;Indie Shooter …</td><td>10698</td><td>&quot;  &quot;</td><td>13</td><td>0</td></tr><tr><td>0</td><td>6557</td><td>&quot;Music Comedy K…</td><td>10695</td><td>&quot;  &quot;</td><td>8</td><td>0</td></tr><tr><td>0</td><td>7128</td><td>&quot;Sport  achieve…</td><td>10695</td><td>&quot;  &quot;</td><td>4</td><td>0</td></tr><tr><td>0</td><td>8446</td><td>&quot;Platform Actio…</td><td>10698</td><td>&quot;  &quot;</td><td>21</td><td>0</td></tr><tr><td>0</td><td>8753</td><td>&quot;Indie Roleplay…</td><td>4814</td><td>&quot;  &quot;</td><td>9</td><td>0</td></tr><tr><td>0</td><td>9283</td><td>&quot;Shooter Action…</td><td>4814</td><td>&quot;  &quot;</td><td>23</td><td>0</td></tr><tr><td>0</td><td>9534</td><td>&quot;Adventure Indi…</td><td>10695</td><td>&quot;  &quot;</td><td>39</td><td>0</td></tr><tr><td>&hellip;</td><td>&hellip;</td><td>&hellip;</td><td>&hellip;</td><td>&hellip;</td><td>&hellip;</td><td>&hellip;</td></tr><tr><td>0</td><td>16504</td><td>&quot;Adventure Indi…</td><td>10695</td><td>&quot;  &quot;</td><td>34</td><td>0</td></tr><tr><td>0</td><td>20297</td><td>&quot;Sport  footbal…</td><td>10695</td><td>&quot;  &quot;</td><td>3</td><td>0</td></tr><tr><td>0</td><td>23016</td><td>&quot;Adventure Role…</td><td>10698</td><td>&quot;  &quot;</td><td>4</td><td>0</td></tr><tr><td>0</td><td>23329</td><td>&quot;CardBoardGame …</td><td>10698</td><td>&quot;  &quot;</td><td>21</td><td>0</td></tr><tr><td>0</td><td>28148</td><td>&quot;Adventure Indi…</td><td>10695</td><td>&quot;  &quot;</td><td>5</td><td>0</td></tr><tr><td>0</td><td>29900</td><td>&quot;Adventure Indi…</td><td>10698</td><td>&quot;  &quot;</td><td>14</td><td>0</td></tr><tr><td>0</td><td>39758</td><td>&quot;Adventure Indi…</td><td>10695</td><td>&quot;  &quot;</td><td>8</td><td>0</td></tr><tr><td>0</td><td>86269</td><td>&quot;CardBoardGame …</td><td>10695</td><td>&quot;  &quot;</td><td>7</td><td>0</td></tr><tr><td>0</td><td>96032</td><td>&quot;Adventure Hack…</td><td>10698</td><td>&quot;  &quot;</td><td>12</td><td>0</td></tr><tr><td>0</td><td>96204</td><td>&quot;Adventure Indi…</td><td>4814</td><td>&quot;  &quot;</td><td>10</td><td>0</td></tr><tr><td>0</td><td>109245</td><td>&quot;Adventure Indi…</td><td>10695</td><td>&quot;  &quot;</td><td>7</td><td>0</td></tr><tr><td>0</td><td>144983</td><td>&quot;Sport Strategy…</td><td>10695</td><td>&quot;  &quot;</td><td>3</td><td>0</td></tr></tbody></table></div>"
     },
     "execution_count": 29,
     "metadata": {},
     "output_type": "execute_result"
    }
   ],
   "source": [
    "df.filter(pl.col('game_features_len') == 0)"
   ],
   "metadata": {
    "collapsed": false,
    "ExecuteTime": {
     "end_time": "2024-01-27T19:04:56.284216547Z",
     "start_time": "2024-01-27T19:04:56.275969844Z"
    }
   },
   "id": "814bdf1a7f17ca1d",
   "execution_count": 29
  },
  {
   "cell_type": "code",
   "outputs": [],
   "source": [
    "# plt.figure(figsize=(20,20))\n",
    "# sns.scatterplot(data=plot_data)\n",
    "# plt.xlabel('Entries')\n",
    "# plt.ylabel('Number of Features')\n",
    "# plt.title('Number of Features for Anchors and Games')\n",
    "# \n",
    "# plt.show()"
   ],
   "metadata": {
    "collapsed": false,
    "ExecuteTime": {
     "end_time": "2024-01-27T19:04:56.296995265Z",
     "start_time": "2024-01-27T19:04:56.283194990Z"
    }
   },
   "id": "75ef39da42138824",
   "execution_count": 30
  },
  {
   "cell_type": "code",
   "outputs": [
    {
     "data": {
      "text/plain": "shape: (21_037, 2)\n┌───────────┬───────┐\n│ anchor_id ┆ count │\n│ ---       ┆ ---   │\n│ i64       ┆ u32   │\n╞═══════════╪═══════╡\n│ 1         ┆ 15    │\n│ 2         ┆ 15    │\n│ 3         ┆ 15    │\n│ 4         ┆ 15    │\n│ 6         ┆ 15    │\n│ …         ┆ …     │\n│ 205978    ┆ 5     │\n│ 221331    ┆ 5     │\n│ 225779    ┆ 5     │\n│ 237751    ┆ 5     │\n│ 261012    ┆ 5     │\n└───────────┴───────┘",
      "text/html": "<div><style>\n.dataframe > thead > tr,\n.dataframe > tbody > tr {\n  text-align: right;\n  white-space: pre-wrap;\n}\n</style>\n<small>shape: (21_037, 2)</small><table border=\"1\" class=\"dataframe\"><thead><tr><th>anchor_id</th><th>count</th></tr><tr><td>i64</td><td>u32</td></tr></thead><tbody><tr><td>1</td><td>15</td></tr><tr><td>2</td><td>15</td></tr><tr><td>3</td><td>15</td></tr><tr><td>4</td><td>15</td></tr><tr><td>6</td><td>15</td></tr><tr><td>7</td><td>15</td></tr><tr><td>8</td><td>15</td></tr><tr><td>9</td><td>15</td></tr><tr><td>11</td><td>15</td></tr><tr><td>13</td><td>15</td></tr><tr><td>14</td><td>15</td></tr><tr><td>15</td><td>15</td></tr><tr><td>&hellip;</td><td>&hellip;</td></tr><tr><td>137951</td><td>5</td></tr><tr><td>140781</td><td>5</td></tr><tr><td>141960</td><td>5</td></tr><tr><td>146762</td><td>5</td></tr><tr><td>178094</td><td>5</td></tr><tr><td>187043</td><td>5</td></tr><tr><td>198113</td><td>5</td></tr><tr><td>205978</td><td>5</td></tr><tr><td>221331</td><td>5</td></tr><tr><td>225779</td><td>5</td></tr><tr><td>237751</td><td>5</td></tr><tr><td>261012</td><td>5</td></tr></tbody></table></div>"
     },
     "execution_count": 31,
     "metadata": {},
     "output_type": "execute_result"
    }
   ],
   "source": [
    "anchors = df['anchor_id'].value_counts(sort=True)\n",
    "anchors"
   ],
   "metadata": {
    "collapsed": false,
    "ExecuteTime": {
     "end_time": "2024-01-27T19:04:56.328930267Z",
     "start_time": "2024-01-27T19:04:56.285934928Z"
    }
   },
   "id": "791d4b1e6f994dea",
   "execution_count": 31
  },
  {
   "cell_type": "code",
   "outputs": [],
   "source": [
    "# from numpy import digitize\n",
    "# max_value = anchors.max()[\"count\"].item()\n",
    "# bins = range(1, max_value)\n",
    "# keyword_df = anchors.with_columns(\n",
    "#     pl.col('count').map_elements(lambda x: digitize(x, bins, right=True)).alias('bin')\n",
    "# )\n",
    "# keyword_bins = keyword_df.group_by('bin').agg(pl.col('bin').count().alias('count')).sort(\"bin\")\n",
    "# labels = [str(x) for x in range(5, max_value+1)]\n",
    "# keyword_bins.insert_column(2, pl.Series(\"labels\", labels))\n",
    "# plt.figure(figsize=(10, 6))\n",
    "# sns.barplot(data=keyword_bins, x=\"labels\", y=\"count\", color=\"red\").set(title=\"Distribution of Anchors\")\n",
    "# plt.xlabel('Anchors Frequency Bins')\n",
    "# plt.ylabel('Counts')"
   ],
   "metadata": {
    "collapsed": false,
    "ExecuteTime": {
     "end_time": "2024-01-27T19:04:56.340514181Z",
     "start_time": "2024-01-27T19:04:56.299305287Z"
    }
   },
   "id": "aa7c9ef837c9f496",
   "execution_count": 32
  },
  {
   "cell_type": "code",
   "outputs": [
    {
     "data": {
      "text/plain": "shape: (5_912, 2)\n┌─────────┬───────┐\n│ game_id ┆ count │\n│ ---     ┆ ---   │\n│ i64     ┆ u32   │\n╞═════════╪═══════╡\n│ 55      ┆ 28    │\n│ 641     ┆ 28    │\n│ 476     ┆ 28    │\n│ 461     ┆ 28    │\n│ 313     ┆ 28    │\n│ …       ┆ …     │\n│ 4509    ┆ 1     │\n│ 5415    ┆ 1     │\n│ 4418    ┆ 1     │\n│ 3103    ┆ 1     │\n│ 5024    ┆ 1     │\n└─────────┴───────┘",
      "text/html": "<div><style>\n.dataframe > thead > tr,\n.dataframe > tbody > tr {\n  text-align: right;\n  white-space: pre-wrap;\n}\n</style>\n<small>shape: (5_912, 2)</small><table border=\"1\" class=\"dataframe\"><thead><tr><th>game_id</th><th>count</th></tr><tr><td>i64</td><td>u32</td></tr></thead><tbody><tr><td>55</td><td>28</td></tr><tr><td>641</td><td>28</td></tr><tr><td>476</td><td>28</td></tr><tr><td>461</td><td>28</td></tr><tr><td>313</td><td>28</td></tr><tr><td>433</td><td>28</td></tr><tr><td>168</td><td>28</td></tr><tr><td>196</td><td>28</td></tr><tr><td>359</td><td>28</td></tr><tr><td>80</td><td>28</td></tr><tr><td>209</td><td>28</td></tr><tr><td>351</td><td>28</td></tr><tr><td>&hellip;</td><td>&hellip;</td></tr><tr><td>9194</td><td>1</td></tr><tr><td>5054</td><td>1</td></tr><tr><td>8923</td><td>1</td></tr><tr><td>9958</td><td>1</td></tr><tr><td>8715</td><td>1</td></tr><tr><td>10382</td><td>1</td></tr><tr><td>9608</td><td>1</td></tr><tr><td>4509</td><td>1</td></tr><tr><td>5415</td><td>1</td></tr><tr><td>4418</td><td>1</td></tr><tr><td>3103</td><td>1</td></tr><tr><td>5024</td><td>1</td></tr></tbody></table></div>"
     },
     "execution_count": 35,
     "metadata": {},
     "output_type": "execute_result"
    }
   ],
   "source": [
    "temp_df = df.filter(pl.col('label') == 0)\n",
    "games = temp_df['game_id'].value_counts(sort=True)\n",
    "games"
   ],
   "metadata": {
    "collapsed": false,
    "ExecuteTime": {
     "end_time": "2024-01-27T19:05:14.349992245Z",
     "start_time": "2024-01-27T19:05:14.312964751Z"
    }
   },
   "id": "ce2777c518d1f673",
   "execution_count": 35
  },
  {
   "cell_type": "code",
   "outputs": [],
   "source": [
    "# from numpy import digitize\n",
    "# max_value = games.max()[\"count\"].item()\n",
    "# bins = range(1, max_value)\n",
    "# keyword_df = games.with_columns(\n",
    "#     pl.col('count').map_elements(lambda x: digitize(x, bins, right=True)).alias('bin')\n",
    "# )\n",
    "# keyword_bins = keyword_df.group_by('bin').agg(pl.col('bin').count().alias('count')).sort(\"bin\")\n",
    "# labels = games.unique(subset=[\"count\"]).to_series().to_list()\n",
    "# keyword_bins.insert_column(2, pl.Series(\"labels\", labels))\n",
    "# plt.figure(figsize=(10, 6))\n",
    "# sns.barplot(data=keyword_bins, x=\"labels\", y=\"count\", color=\"red\").set(title=\"Distribution of Games\")\n",
    "# plt.xlabel('Games Frequency Bins')\n",
    "# plt.ylabel('Counts')"
   ],
   "metadata": {
    "collapsed": false,
    "ExecuteTime": {
     "end_time": "2024-01-27T19:04:56.391786156Z",
     "start_time": "2024-01-27T19:04:56.344826571Z"
    }
   },
   "id": "cb7911c4aa7fa9e9",
   "execution_count": 34
  }
 ],
 "metadata": {
  "kernelspec": {
   "display_name": "Python 3",
   "language": "python",
   "name": "python3"
  },
  "language_info": {
   "codemirror_mode": {
    "name": "ipython",
    "version": 2
   },
   "file_extension": ".py",
   "mimetype": "text/x-python",
   "name": "python",
   "nbconvert_exporter": "python",
   "pygments_lexer": "ipython2",
   "version": "2.7.6"
  }
 },
 "nbformat": 4,
 "nbformat_minor": 5
}
