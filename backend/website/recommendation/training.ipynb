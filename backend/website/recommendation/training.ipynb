{
 "cells": [
  {
   "cell_type": "markdown",
   "id": "6d020738138ff425",
   "metadata": {
    "collapsed": false
   },
   "source": [
    "## load training triples"
   ]
  },
  {
   "cell_type": "code",
   "execution_count": 1,
   "id": "7964e4fb229c0cde",
   "metadata": {
    "collapsed": false,
    "ExecuteTime": {
     "end_time": "2024-01-27T20:54:42.045739707Z",
     "start_time": "2024-01-27T20:54:40.424449202Z"
    }
   },
   "outputs": [],
   "source": [
    "import json\n",
    "\n",
    "\n",
    "with open('training_data_pairs_shuffled.json', 'r') as f:\n",
    "    loaded_data = json.load(f)"
   ]
  },
  {
   "cell_type": "code",
   "outputs": [],
   "source": [
    "#loaded_data = loaded_data['train_data'] + loaded_data['test_data'] + loaded_data['val_data']"
   ],
   "metadata": {
    "collapsed": false,
    "ExecuteTime": {
     "end_time": "2024-01-27T20:54:42.053308518Z",
     "start_time": "2024-01-27T20:54:42.045966570Z"
    }
   },
   "id": "3f62c7bdf8b0b036",
   "execution_count": 2
  },
  {
   "cell_type": "code",
   "execution_count": 3,
   "outputs": [
    {
     "name": "stdout",
     "output_type": "stream",
     "text": [
      "{'anchor': {'id': 1, 'features': 'Adventure Shooter Simulator Action Fantasy Stealth actionadventure blackjack bowandarrow crime darkness death difficultylevel ghosts immersive invisibility melee movingbodies pacifistplaythrough particlesystem pickpocketing polygonald potion realtimecombat shadowstealth singleplayeronly stealthkill steampunk swimming swordplay theft thief', 'description': 'ultimate thief back tread softly make complex non-linear levels full loot steal guards outsmart improved enemy gadgets riveting story draw world thief metal place powerful technologies fanatical religions corruption game begins garrett continues life thief however betrayed fence ambushed early mission determines truart local sheriff hunting keepers take garrett hear prophecy metal ignores garrett leaves keepers informs truart hired kill gives garrett letter directs eavesdrop mechanist meeting garrett overhears truart father karras discussing conversion street people mindless servants wear masks emit vapor capable reducing nearby humans rust truart promises provide karras twenty victims servant project realizing karras recording words blackmail garrett steals recording safe deposit order coerce truart revealing employer.however garrett finds truart murdered estate evidence crime scene leads police officer mosley garrett sees mosley deliver suspicious letter carried portal wounded pagan garrett enters portal finds outside city follows pagan trail blood viktoria persuades garrett join mechanists lead viktoria infiltrates karras office learn cetus project inadvertently discovers karras giving servants city nobles garrett travels mechanist base find cetus project revealed submarine order locate kidnap high-ranking mechanist named brother cavador garrett stows away vehicle.after delivering cavador viktoria garrett steals servant mask learn mechanist technology called cultivator meanwhile karras hides inside mechanist cathedral preparation plan garrett viktoria learn cultivators inside servant masks emit vapor rust karras provided servants nobles gardens order apocalyptic chain reaction viktoria plans lure servants hermetically sealed mechanist cathedral karras activates masks garrett believes dangerous leaves viktoria goes cathedral alone dies filling plants garrett completes plan killing karras rust afterward garrett approached keeper explains karras scheme viktoria death prophesied garrett demands know rest keepers prophecies game ends'}, 'game': {'id': 2, 'features': 'Adventure Simulator Action Fantasy Stealth actionadventure assassin basketball betrayal blackjack bowandarrow bread crime darkness difficultylevel ghosts immersive instantkill invisibility magic maleprotagonist medieval melee movingbodies murder pacifistplaythrough particlesystem pickpocketing plottwist polygonald potion realtimecombat reluctanthero retailgameswithsteamactivation shadowstealth singleplayeronly stealthkill steampunk swimming swordplay theft thief tombraiding voiceacting', 'description': 'thief first-person stealth game likes dark sneak ruins haunted cathedrals subterranean ruins forbidding prisons dark sinister city heavily inspired steampunk dark ages garrett finds ally shadows steals money uncovers hidden agendas allies enemies story unravels deception revenge'}, 'label': 1}\n"
     ]
    }
   ],
   "source": [
    "print(loaded_data[0])"
   ],
   "metadata": {
    "collapsed": false,
    "ExecuteTime": {
     "end_time": "2024-01-27T20:54:42.055755097Z",
     "start_time": "2024-01-27T20:54:42.051020440Z"
    }
   },
   "id": "565ecbc86c523c78"
  },
  {
   "cell_type": "code",
   "execution_count": 4,
   "id": "7a13c635e0a59be0",
   "metadata": {
    "collapsed": false,
    "ExecuteTime": {
     "end_time": "2024-01-27T20:54:42.058078803Z",
     "start_time": "2024-01-27T20:54:42.055242501Z"
    }
   },
   "outputs": [
    {
     "name": "stdout",
     "output_type": "stream",
     "text": [
      "length: 283131\n"
     ]
    }
   ],
   "source": [
    "print(f'length: {len(loaded_data)}')"
   ]
  },
  {
   "cell_type": "code",
   "execution_count": 5,
   "id": "6d25018201843bc3",
   "metadata": {
    "collapsed": false,
    "ExecuteTime": {
     "end_time": "2024-01-27T20:54:57.256603814Z",
     "start_time": "2024-01-27T20:54:42.059799505Z"
    }
   },
   "outputs": [
    {
     "name": "stderr",
     "output_type": "stream",
     "text": [
      "2024-01-27 21:54:42.241081: E external/local_xla/xla/stream_executor/cuda/cuda_dnn.cc:9261] Unable to register cuDNN factory: Attempting to register factory for plugin cuDNN when one has already been registered\n",
      "2024-01-27 21:54:42.241107: E external/local_xla/xla/stream_executor/cuda/cuda_fft.cc:607] Unable to register cuFFT factory: Attempting to register factory for plugin cuFFT when one has already been registered\n",
      "2024-01-27 21:54:42.241846: E external/local_xla/xla/stream_executor/cuda/cuda_blas.cc:1515] Unable to register cuBLAS factory: Attempting to register factory for plugin cuBLAS when one has already been registered\n",
      "2024-01-27 21:54:42.246752: I tensorflow/core/platform/cpu_feature_guard.cc:182] This TensorFlow binary is optimized to use available CPU instructions in performance-critical operations.\n",
      "To enable the following instructions: AVX2 FMA, in other operations, rebuild TensorFlow with the appropriate compiler flags.\n",
      "2024-01-27 21:54:43.020789: W tensorflow/compiler/tf2tensorrt/utils/py_utils.cc:38] TF-TRT Warning: Could not find TensorRT\n"
     ]
    }
   ],
   "source": [
    "from tensorflow.keras.preprocessing.text import Tokenizer\n",
    "from tensorflow.keras.preprocessing.sequence import pad_sequences\n",
    "\n",
    "\n",
    "def extract_features_and_labels(data):\n",
    "    features_anchor = [entry['anchor']['features'] for entry in data]\n",
    "    features_game = [entry['game']['features'] for entry in data]\n",
    "    labels = [entry['label'] for entry in data]\n",
    "    return (features_anchor, features_game, labels)\n",
    "\n",
    "features_anchor, features_game, labels = extract_features_and_labels(loaded_data)\n",
    "\n",
    "tokenizer = Tokenizer()\n",
    "tokenizer.fit_on_texts(features_anchor + features_game)\n",
    "vocab_size = len(tokenizer.word_index) + 1\n",
    "max_sequence_length = max(\n",
    "        max(len(seq) for seq in features_anchor),\n",
    "        max(len(seq) for seq in features_game),\n",
    "    )\n",
    "\n",
    "def tokenize_and_pad(sequences):\n",
    "    tokenized_sequences = tokenizer.texts_to_sequences(sequences)\n",
    "    padded_sequences = pad_sequences(tokenized_sequences, maxlen=max_sequence_length, padding='post')\n",
    "    return padded_sequences\n",
    "\n",
    "\n",
    "features_anchor = tokenize_and_pad(features_anchor)\n",
    "features_game = tokenize_and_pad(features_game)"
   ]
  },
  {
   "cell_type": "code",
   "outputs": [],
   "source": [
    "from sklearn.model_selection import train_test_split\n",
    "\n",
    "train_anchor, temp_anchor, train_game, temp_game, train_labels, temp_labels = train_test_split(\n",
    "    features_anchor,\n",
    "    features_game,\n",
    "    labels,\n",
    "    test_size=0.8, random_state=42)\n",
    "val_anchor, test_anchor, val_game, test_game, val_labels, test_labels = train_test_split(\n",
    "    temp_anchor,\n",
    "    temp_game,\n",
    "    temp_labels,\n",
    "    test_size=0.5, random_state=42)"
   ],
   "metadata": {
    "collapsed": false,
    "ExecuteTime": {
     "end_time": "2024-01-27T20:54:59.418508552Z",
     "start_time": "2024-01-27T20:54:57.257137217Z"
    }
   },
   "id": "2d9dcc5f31f4cbe7",
   "execution_count": 6
  },
  {
   "cell_type": "code",
   "execution_count": 7,
   "id": "3d0fc9c3e16949ed",
   "metadata": {
    "collapsed": false,
    "ExecuteTime": {
     "end_time": "2024-01-27T20:55:00.174774256Z",
     "start_time": "2024-01-27T20:54:59.423611160Z"
    }
   },
   "outputs": [
    {
     "name": "stderr",
     "output_type": "stream",
     "text": [
      "2024-01-27 21:54:59.493295: I external/local_xla/xla/stream_executor/cuda/cuda_executor.cc:901] successful NUMA node read from SysFS had negative value (-1), but there must be at least one NUMA node, so returning NUMA node zero. See more at https://github.com/torvalds/linux/blob/v6.0/Documentation/ABI/testing/sysfs-bus-pci#L344-L355\n",
      "2024-01-27 21:54:59.517081: I external/local_xla/xla/stream_executor/cuda/cuda_executor.cc:901] successful NUMA node read from SysFS had negative value (-1), but there must be at least one NUMA node, so returning NUMA node zero. See more at https://github.com/torvalds/linux/blob/v6.0/Documentation/ABI/testing/sysfs-bus-pci#L344-L355\n",
      "2024-01-27 21:54:59.517224: I external/local_xla/xla/stream_executor/cuda/cuda_executor.cc:901] successful NUMA node read from SysFS had negative value (-1), but there must be at least one NUMA node, so returning NUMA node zero. See more at https://github.com/torvalds/linux/blob/v6.0/Documentation/ABI/testing/sysfs-bus-pci#L344-L355\n",
      "2024-01-27 21:54:59.518341: I external/local_xla/xla/stream_executor/cuda/cuda_executor.cc:901] successful NUMA node read from SysFS had negative value (-1), but there must be at least one NUMA node, so returning NUMA node zero. See more at https://github.com/torvalds/linux/blob/v6.0/Documentation/ABI/testing/sysfs-bus-pci#L344-L355\n",
      "2024-01-27 21:54:59.518453: I external/local_xla/xla/stream_executor/cuda/cuda_executor.cc:901] successful NUMA node read from SysFS had negative value (-1), but there must be at least one NUMA node, so returning NUMA node zero. See more at https://github.com/torvalds/linux/blob/v6.0/Documentation/ABI/testing/sysfs-bus-pci#L344-L355\n",
      "2024-01-27 21:54:59.518553: I external/local_xla/xla/stream_executor/cuda/cuda_executor.cc:901] successful NUMA node read from SysFS had negative value (-1), but there must be at least one NUMA node, so returning NUMA node zero. See more at https://github.com/torvalds/linux/blob/v6.0/Documentation/ABI/testing/sysfs-bus-pci#L344-L355\n",
      "2024-01-27 21:54:59.569410: I external/local_xla/xla/stream_executor/cuda/cuda_executor.cc:901] successful NUMA node read from SysFS had negative value (-1), but there must be at least one NUMA node, so returning NUMA node zero. See more at https://github.com/torvalds/linux/blob/v6.0/Documentation/ABI/testing/sysfs-bus-pci#L344-L355\n",
      "2024-01-27 21:54:59.569575: I external/local_xla/xla/stream_executor/cuda/cuda_executor.cc:901] successful NUMA node read from SysFS had negative value (-1), but there must be at least one NUMA node, so returning NUMA node zero. See more at https://github.com/torvalds/linux/blob/v6.0/Documentation/ABI/testing/sysfs-bus-pci#L344-L355\n",
      "2024-01-27 21:54:59.569699: I external/local_xla/xla/stream_executor/cuda/cuda_executor.cc:901] successful NUMA node read from SysFS had negative value (-1), but there must be at least one NUMA node, so returning NUMA node zero. See more at https://github.com/torvalds/linux/blob/v6.0/Documentation/ABI/testing/sysfs-bus-pci#L344-L355\n",
      "2024-01-27 21:54:59.569786: I tensorflow/core/common_runtime/gpu/gpu_device.cc:1929] Created device /job:localhost/replica:0/task:0/device:GPU:0 with 839 MB memory:  -> device: 0, name: NVIDIA GeForce RTX 3060, pci bus id: 0000:01:00.0, compute capability: 8.6\n",
      "2024-01-27 21:54:59.637456: I external/local_tsl/tsl/platform/default/subprocess.cc:304] Start cannot spawn child process: No such file or directory\n"
     ]
    },
    {
     "name": "stdout",
     "output_type": "stream",
     "text": [
      "Model: \"model\"\n",
      "__________________________________________________________________________________________________\n",
      " Layer (type)                Output Shape                 Param #   Connected to                  \n",
      "==================================================================================================\n",
      " anchor (InputLayer)         [(None, 3764)]               0         []                            \n",
      "                                                                                                  \n",
      " game (InputLayer)           [(None, 3764)]               0         []                            \n",
      "                                                                                                  \n",
      " sequential (Sequential)     (None, 16)                   466496    ['anchor[0][0]',              \n",
      "                                                                     'game[0][0]']                \n",
      "                                                                                                  \n",
      " dot (Dot)                   (None, 1)                    0         ['sequential[0][0]',          \n",
      "                                                                     'sequential[1][0]']          \n",
      "                                                                                                  \n",
      "==================================================================================================\n",
      "Total params: 466496 (1.78 MB)\n",
      "Trainable params: 466496 (1.78 MB)\n",
      "Non-trainable params: 0 (0.00 Byte)\n",
      "__________________________________________________________________________________________________\n",
      "None\n"
     ]
    }
   ],
   "source": [
    "import numpy as np\n",
    "import tensorflow as tf\n",
    "from tensorflow.keras import layers, models\n",
    "from tensorflow.keras.optimizers import Adam\n",
    "\n",
    "\n",
    "def build_siamese_network(input_shape, vocab_size):\n",
    "    model = models.Sequential()\n",
    "    model.add(layers.Embedding(input_dim=vocab_size, output_dim=128, input_length=input_shape))\n",
    "    model.add(layers.LSTM(64))\n",
    "    model.add(layers.Dense(32, activation='relu'))\n",
    "    model.add(layers.Dropout(0.5))\n",
    "    model.add(layers.Dense(16, activation='relu'))\n",
    "    model.add(layers.Dropout(0.5))\n",
    "    model.add(layers.Dense(16, activation='sigmoid'))\n",
    "    return model\n",
    "\n",
    "# Define the input shapes\n",
    "input_shape = max_sequence_length\n",
    "\n",
    "# Create the Siamese network\n",
    "anchor_input = tf.keras.Input(shape=(input_shape,), name='anchor')\n",
    "game_input = tf.keras.Input(shape=(input_shape,), name='game')\n",
    "\n",
    "siamese_network = build_siamese_network(input_shape, vocab_size)\n",
    "\n",
    "# Generate the encodings (feature vectors) for the anchor and game\n",
    "encoded_anchor = siamese_network(anchor_input)\n",
    "encoded_game = siamese_network(game_input)\n",
    "\n",
    "# Calculate the similarity between the anchor and game\n",
    "similarity = layers.Dot(axes=1, normalize=True)([encoded_anchor, encoded_game])\n",
    "#layers.CosineSimilarity()\n",
    "\n",
    "# Create the Siamese model\n",
    "siamese_model = tf.keras.Model(inputs=[anchor_input, game_input], outputs=similarity)\n",
    "\n",
    "# Compile the Siamese model with binary crossentropy loss\n",
    "custom_adam = Adam(learning_rate=0.001)\n",
    "siamese_model.compile(loss='binary_crossentropy', optimizer=custom_adam, metrics=['accuracy'])\n",
    "\n",
    "# Print the model summary\n",
    "print(siamese_model.summary())"
   ]
  },
  {
   "cell_type": "code",
   "outputs": [
    {
     "data": {
      "text/plain": "<IPython.core.display.SVG object>",
      "image/svg+xml": "<svg xmlns=\"http://www.w3.org/2000/svg\" xmlns:xlink=\"http://www.w3.org/1999/xlink\" width=\"1055pt\" height=\"221pt\" viewBox=\"0.00 0.00 791.00 166.00\">\n<g id=\"graph0\" class=\"graph\" transform=\"scale(0.75 0.75) rotate(0) translate(4 162)\">\n<title>G</title>\n<polygon fill=\"white\" stroke=\"transparent\" points=\"-4,4 -4,-162 787,-162 787,4 -4,4\"/>\n<!-- 140274326495504 -->\n<g id=\"node1\" class=\"node\">\n<title>140274326495504</title>\n<polygon fill=\"none\" stroke=\"black\" points=\"0,-88.5 0,-157.5 240,-157.5 240,-88.5 0,-88.5\"/>\n<text text-anchor=\"middle\" x=\"120\" y=\"-142.3\" font-family=\"Times,serif\" font-size=\"14.00\">InputLayer</text>\n<polyline fill=\"none\" stroke=\"black\" points=\"0,-134.5 240,-134.5 \"/>\n<text text-anchor=\"middle\" x=\"57.5\" y=\"-119.3\" font-family=\"Times,serif\" font-size=\"14.00\">input:</text>\n<polyline fill=\"none\" stroke=\"black\" points=\"115,-111.5 115,-134.5 \"/>\n<text text-anchor=\"middle\" x=\"177.5\" y=\"-119.3\" font-family=\"Times,serif\" font-size=\"14.00\">output:</text>\n<polyline fill=\"none\" stroke=\"black\" points=\"0,-111.5 240,-111.5 \"/>\n<text text-anchor=\"middle\" x=\"60\" y=\"-96.3\" font-family=\"Times,serif\" font-size=\"14.00\">[(None, 3764)]</text>\n<polyline fill=\"none\" stroke=\"black\" points=\"120,-88.5 120,-111.5 \"/>\n<text text-anchor=\"middle\" x=\"180\" y=\"-96.3\" font-family=\"Times,serif\" font-size=\"14.00\">[(None, 3764)]</text>\n</g>\n<!-- 140274326495312 -->\n<g id=\"node3\" class=\"node\">\n<title>140274326495312</title>\n<polygon fill=\"none\" stroke=\"black\" points=\"276,-44.5 276,-113.5 478,-113.5 478,-44.5 276,-44.5\"/>\n<text text-anchor=\"middle\" x=\"377\" y=\"-98.3\" font-family=\"Times,serif\" font-size=\"14.00\">Sequential</text>\n<polyline fill=\"none\" stroke=\"black\" points=\"276,-90.5 478,-90.5 \"/>\n<text text-anchor=\"middle\" x=\"324\" y=\"-75.3\" font-family=\"Times,serif\" font-size=\"14.00\">input:</text>\n<polyline fill=\"none\" stroke=\"black\" points=\"372,-67.5 372,-90.5 \"/>\n<text text-anchor=\"middle\" x=\"425\" y=\"-75.3\" font-family=\"Times,serif\" font-size=\"14.00\">output:</text>\n<polyline fill=\"none\" stroke=\"black\" points=\"276,-67.5 478,-67.5 \"/>\n<text text-anchor=\"middle\" x=\"331\" y=\"-52.3\" font-family=\"Times,serif\" font-size=\"14.00\">(None, 3764)</text>\n<polyline fill=\"none\" stroke=\"black\" points=\"386,-44.5 386,-67.5 \"/>\n<text text-anchor=\"middle\" x=\"432\" y=\"-52.3\" font-family=\"Times,serif\" font-size=\"14.00\">(None, 16)</text>\n</g>\n<!-- 140274326495504&#45;&gt;140274326495312 -->\n<g id=\"edge1\" class=\"edge\">\n<title>140274326495504-&gt;140274326495312</title>\n<path fill=\"none\" stroke=\"black\" d=\"M240.29,-102.42C248.86,-100.94 257.48,-99.45 265.99,-97.98\"/>\n<polygon fill=\"black\" stroke=\"black\" points=\"266.67,-101.42 275.93,-96.27 265.48,-94.52 266.67,-101.42\"/>\n</g>\n<!-- 140274326495408 -->\n<g id=\"node2\" class=\"node\">\n<title>140274326495408</title>\n<polygon fill=\"none\" stroke=\"black\" points=\"0,-0.5 0,-69.5 240,-69.5 240,-0.5 0,-0.5\"/>\n<text text-anchor=\"middle\" x=\"120\" y=\"-54.3\" font-family=\"Times,serif\" font-size=\"14.00\">InputLayer</text>\n<polyline fill=\"none\" stroke=\"black\" points=\"0,-46.5 240,-46.5 \"/>\n<text text-anchor=\"middle\" x=\"57.5\" y=\"-31.3\" font-family=\"Times,serif\" font-size=\"14.00\">input:</text>\n<polyline fill=\"none\" stroke=\"black\" points=\"115,-23.5 115,-46.5 \"/>\n<text text-anchor=\"middle\" x=\"177.5\" y=\"-31.3\" font-family=\"Times,serif\" font-size=\"14.00\">output:</text>\n<polyline fill=\"none\" stroke=\"black\" points=\"0,-23.5 240,-23.5 \"/>\n<text text-anchor=\"middle\" x=\"60\" y=\"-8.3\" font-family=\"Times,serif\" font-size=\"14.00\">[(None, 3764)]</text>\n<polyline fill=\"none\" stroke=\"black\" points=\"120,-0.5 120,-23.5 \"/>\n<text text-anchor=\"middle\" x=\"180\" y=\"-8.3\" font-family=\"Times,serif\" font-size=\"14.00\">[(None, 3764)]</text>\n</g>\n<!-- 140274326495408&#45;&gt;140274326495312 -->\n<g id=\"edge2\" class=\"edge\">\n<title>140274326495408-&gt;140274326495312</title>\n<path fill=\"none\" stroke=\"black\" d=\"M240.29,-55.58C248.86,-57.06 257.48,-58.55 265.99,-60.02\"/>\n<polygon fill=\"black\" stroke=\"black\" points=\"265.48,-63.48 275.93,-61.73 266.67,-56.58 265.48,-63.48\"/>\n</g>\n<!-- 140274326705712 -->\n<g id=\"node4\" class=\"node\">\n<title>140274326705712</title>\n<polygon fill=\"none\" stroke=\"black\" points=\"514,-44.5 514,-113.5 783,-113.5 783,-44.5 514,-44.5\"/>\n<text text-anchor=\"middle\" x=\"648.5\" y=\"-98.3\" font-family=\"Times,serif\" font-size=\"14.00\">Dot</text>\n<polyline fill=\"none\" stroke=\"black\" points=\"514,-90.5 783,-90.5 \"/>\n<text text-anchor=\"middle\" x=\"579\" y=\"-75.3\" font-family=\"Times,serif\" font-size=\"14.00\">input:</text>\n<polyline fill=\"none\" stroke=\"black\" points=\"644,-67.5 644,-90.5 \"/>\n<text text-anchor=\"middle\" x=\"713.5\" y=\"-75.3\" font-family=\"Times,serif\" font-size=\"14.00\">output:</text>\n<polyline fill=\"none\" stroke=\"black\" points=\"514,-67.5 783,-67.5 \"/>\n<text text-anchor=\"middle\" x=\"607\" y=\"-52.3\" font-family=\"Times,serif\" font-size=\"14.00\">[(None, 16), (None, 16)]</text>\n<polyline fill=\"none\" stroke=\"black\" points=\"700,-44.5 700,-67.5 \"/>\n<text text-anchor=\"middle\" x=\"741.5\" y=\"-52.3\" font-family=\"Times,serif\" font-size=\"14.00\">(None, 1)</text>\n</g>\n<!-- 140274326495312&#45;&gt;140274326705712 -->\n<g id=\"edge3\" class=\"edge\">\n<title>140274326495312-&gt;140274326705712</title>\n<path fill=\"none\" stroke=\"black\" d=\"M478.35,-79C486.63,-79 495.1,-79 503.62,-79\"/>\n<polygon fill=\"black\" stroke=\"black\" points=\"503.63,-82.5 513.63,-79 503.63,-75.5 503.63,-82.5\"/>\n</g>\n</g>\n</svg>"
     },
     "execution_count": 8,
     "metadata": {},
     "output_type": "execute_result"
    }
   ],
   "source": [
    "from keras.utils import plot_model\n",
    "import matplotlib.pyplot as plt\n",
    "plot_model(\n",
    "    siamese_model, \n",
    "    to_file='model.png', \n",
    "    show_shapes=True, \n",
    "    show_layer_names=False, \n",
    "    rankdir='LR')\n",
    "\n",
    "from IPython.display import SVG\n",
    "from keras.utils import model_to_dot\n",
    "SVG(model_to_dot(siamese_model, rankdir='LR', show_shapes=True, show_layer_names=False,).create(prog='dot', format='svg'))"
   ],
   "metadata": {
    "collapsed": false,
    "ExecuteTime": {
     "end_time": "2024-01-27T20:55:00.235984118Z",
     "start_time": "2024-01-27T20:55:00.216632447Z"
    }
   },
   "id": "a221ce5d48d0484c",
   "execution_count": 8
  },
  {
   "cell_type": "code",
   "outputs": [],
   "source": [
    "print(\"Num GPUs Available: \", len(tf.config.list_physical_devices('GPU')))"
   ],
   "metadata": {
    "collapsed": false
   },
   "id": "98f2544429f155fe",
   "execution_count": null
  },
  {
   "cell_type": "code",
   "execution_count": null,
   "id": "cf9f1817c9dee6a0",
   "metadata": {
    "collapsed": false
   },
   "outputs": [],
   "source": [
    "# Train the Siamese model with your padded_sequences_anchor, padded_sequences_game, and labels\n",
    "history = siamese_model.fit(\n",
    "    [train_anchor, train_game],\n",
    "    np.array(train_labels),\n",
    "    epochs=10,\n",
    "    batch_size=64,\n",
    "    #validation_split=0.2,\n",
    "    use_multiprocessing=True,\n",
    "    workers=10,\n",
    "    validation_data=([val_anchor, val_game], np.array(val_labels))\n",
    ")"
   ]
  },
  {
   "cell_type": "code",
   "execution_count": null,
   "outputs": [],
   "source": [
    "from tensorflow.keras.models import save_model\n",
    "\n",
    "siamese_model.save('siamese_model.keras')"
   ],
   "metadata": {
    "collapsed": false
   },
   "id": "b8fcab060c86be1a"
  },
  {
   "cell_type": "code",
   "execution_count": null,
   "outputs": [],
   "source": [
    "# Evaluate the model on the test set\n",
    "test_loss, test_accuracy = siamese_model.evaluate(\n",
    "    (test_anchor, test_game),\n",
    "    np.array(test_labels),\n",
    ")\n",
    "print(f'Test Loss: {test_loss:.4f}, Test Accuracy: {test_accuracy * 100:.2f}%')"
   ],
   "metadata": {
    "collapsed": false
   },
   "id": "87b53c9fd5e0aeda"
  },
  {
   "cell_type": "code",
   "outputs": [],
   "source": [
    "from matplotlib import pyplot as plt\n",
    "\n",
    "plt.plot(history.history['accuracy'])\n",
    "plt.plot(history.history['val_accuracy'])\n",
    "plt.title('model accuracy')\n",
    "plt.ylabel('accuracy')\n",
    "plt.xlabel('epoch')\n",
    "plt.legend(['train', 'val'], loc='upper left')\n",
    "plt.show()"
   ],
   "metadata": {
    "collapsed": false
   },
   "id": "5c0a77cd6dec00d0",
   "execution_count": null
  },
  {
   "cell_type": "code",
   "outputs": [],
   "source": [
    "plt.plot(history.history['loss'])\n",
    "plt.plot(history.history['val_loss'])\n",
    "plt.title('model loss')\n",
    "plt.ylabel('loss')\n",
    "plt.xlabel('epoch')\n",
    "plt.legend(['train', 'val'], loc='upper left')\n",
    "plt.show()"
   ],
   "metadata": {
    "collapsed": false
   },
   "id": "4cf6ebc8a2cf51f9",
   "execution_count": null
  },
  {
   "cell_type": "code",
   "execution_count": null,
   "outputs": [],
   "source": [
    "# from tensorflow.keras.models import load_model\n",
    "# \n",
    "# siamese_model = load_model(\"siamese_model.h5\")"
   ],
   "metadata": {
    "collapsed": false
   },
   "id": "164b6acd23a6e1d5"
  },
  {
   "cell_type": "code",
   "execution_count": null,
   "outputs": [],
   "source": [
    "# get item by id\n",
    "# anchor_game = {'id': 26715, 'features': 'Adventure Arcade Indie Platform Racing Action abstract cyberpunk fastpaced precisionplatforming shootemup speedrunmode superhero'}\n",
    "# \n",
    "# item_sequences = tokenizer.texts_to_sequences([anchor_game['features']])\n",
    "# padded_item_sequences = pad_sequences(item_sequences, maxlen=max_sequence_length, padding='post')"
   ],
   "metadata": {
    "collapsed": false
   },
   "id": "d3648608926eccdb"
  },
  {
   "cell_type": "code",
   "execution_count": null,
   "outputs": [],
   "source": [
    "# get all items"
   ],
   "metadata": {
    "collapsed": false
   },
   "id": "4686ed6d1900a7df"
  }
 ],
 "metadata": {
  "kernelspec": {
   "display_name": "Python 3 (ipykernel)",
   "language": "python",
   "name": "python3"
  },
  "language_info": {
   "codemirror_mode": {
    "name": "ipython",
    "version": 3
   },
   "file_extension": ".py",
   "mimetype": "text/x-python",
   "name": "python",
   "nbconvert_exporter": "python",
   "pygments_lexer": "ipython3",
   "version": "3.10.12"
  }
 },
 "nbformat": 4,
 "nbformat_minor": 5
}
