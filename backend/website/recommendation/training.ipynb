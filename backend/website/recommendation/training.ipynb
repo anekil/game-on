{
 "cells": [
  {
   "cell_type": "markdown",
   "id": "6d020738138ff425",
   "metadata": {
    "collapsed": false
   },
   "source": [
    "## load training triples"
   ]
  },
  {
   "cell_type": "code",
   "execution_count": 17,
   "id": "7964e4fb229c0cde",
   "metadata": {
    "collapsed": false,
    "ExecuteTime": {
     "end_time": "2024-01-27T20:42:49.856311114Z",
     "start_time": "2024-01-27T20:42:48.089865151Z"
    }
   },
   "outputs": [],
   "source": [
    "import json\n",
    "\n",
    "\n",
    "with open('training_data_pairs_shuffled.json', 'r') as f:\n",
    "    loaded_data = json.load(f)"
   ]
  },
  {
   "cell_type": "code",
   "outputs": [],
   "source": [
    "#loaded_data = loaded_data['train_data'] + loaded_data['test_data'] + loaded_data['val_data']"
   ],
   "metadata": {
    "collapsed": false,
    "ExecuteTime": {
     "end_time": "2024-01-27T20:42:49.898189532Z",
     "start_time": "2024-01-27T20:42:49.896812910Z"
    }
   },
   "id": "3f62c7bdf8b0b036",
   "execution_count": 18
  },
  {
   "cell_type": "code",
   "execution_count": 19,
   "outputs": [
    {
     "name": "stdout",
     "output_type": "stream",
     "text": [
      "{'anchor': {'id': 1, 'features': 'Adventure Shooter Simulator Action Fantasy Stealth actionadventure blackjack bowandarrow crime darkness death difficultylevel ghosts immersive invisibility melee movingbodies pacifistplaythrough particlesystem pickpocketing polygonald potion realtimecombat shadowstealth singleplayeronly stealthkill steampunk swimming swordplay theft thief', 'description': 'ultimate thief back tread softly make complex non-linear levels full loot steal guards outsmart improved enemy gadgets riveting story draw world thief metal place powerful technologies fanatical religions corruption game begins garrett continues life thief however betrayed fence ambushed early mission determines truart local sheriff hunting keepers take garrett hear prophecy metal ignores garrett leaves keepers informs truart hired kill gives garrett letter directs eavesdrop mechanist meeting garrett overhears truart father karras discussing conversion street people mindless servants wear masks emit vapor capable reducing nearby humans rust truart promises provide karras twenty victims servant project realizing karras recording words blackmail garrett steals recording safe deposit order coerce truart revealing employer.however garrett finds truart murdered estate evidence crime scene leads police officer mosley garrett sees mosley deliver suspicious letter carried portal wounded pagan garrett enters portal finds outside city follows pagan trail blood viktoria persuades garrett join mechanists lead viktoria infiltrates karras office learn cetus project inadvertently discovers karras giving servants city nobles garrett travels mechanist base find cetus project revealed submarine order locate kidnap high-ranking mechanist named brother cavador garrett stows away vehicle.after delivering cavador viktoria garrett steals servant mask learn mechanist technology called cultivator meanwhile karras hides inside mechanist cathedral preparation plan garrett viktoria learn cultivators inside servant masks emit vapor rust karras provided servants nobles gardens order apocalyptic chain reaction viktoria plans lure servants hermetically sealed mechanist cathedral karras activates masks garrett believes dangerous leaves viktoria goes cathedral alone dies filling plants garrett completes plan killing karras rust afterward garrett approached keeper explains karras scheme viktoria death prophesied garrett demands know rest keepers prophecies game ends'}, 'game': {'id': 2, 'features': 'Adventure Simulator Action Fantasy Stealth actionadventure assassin basketball betrayal blackjack bowandarrow bread crime darkness difficultylevel ghosts immersive instantkill invisibility magic maleprotagonist medieval melee movingbodies murder pacifistplaythrough particlesystem pickpocketing plottwist polygonald potion realtimecombat reluctanthero retailgameswithsteamactivation shadowstealth singleplayeronly stealthkill steampunk swimming swordplay theft thief tombraiding voiceacting', 'description': 'thief first-person stealth game likes dark sneak ruins haunted cathedrals subterranean ruins forbidding prisons dark sinister city heavily inspired steampunk dark ages garrett finds ally shadows steals money uncovers hidden agendas allies enemies story unravels deception revenge'}, 'label': 1}\n"
     ]
    }
   ],
   "source": [
    "print(loaded_data[0])"
   ],
   "metadata": {
    "collapsed": false,
    "ExecuteTime": {
     "end_time": "2024-01-27T20:42:49.898723226Z",
     "start_time": "2024-01-27T20:42:49.896905760Z"
    }
   },
   "id": "565ecbc86c523c78"
  },
  {
   "cell_type": "code",
   "execution_count": 20,
   "id": "7a13c635e0a59be0",
   "metadata": {
    "collapsed": false,
    "ExecuteTime": {
     "end_time": "2024-01-27T20:42:49.899178526Z",
     "start_time": "2024-01-27T20:42:49.896982776Z"
    }
   },
   "outputs": [
    {
     "name": "stdout",
     "output_type": "stream",
     "text": [
      "length: 283131\n"
     ]
    }
   ],
   "source": [
    "print(f'length: {len(loaded_data)}')"
   ]
  },
  {
   "cell_type": "code",
   "execution_count": 21,
   "id": "6d25018201843bc3",
   "metadata": {
    "collapsed": false,
    "ExecuteTime": {
     "end_time": "2024-01-27T20:43:04.241349880Z",
     "start_time": "2024-01-27T20:42:49.897061748Z"
    }
   },
   "outputs": [],
   "source": [
    "from tensorflow.keras.preprocessing.text import Tokenizer\n",
    "from tensorflow.keras.preprocessing.sequence import pad_sequences\n",
    "\n",
    "\n",
    "def extract_features_and_labels(data):\n",
    "    features_anchor = [entry['anchor']['features'] for entry in data]\n",
    "    features_game = [entry['game']['features'] for entry in data]\n",
    "    labels = [entry['label'] for entry in data]\n",
    "    return (features_anchor, features_game, labels)\n",
    "\n",
    "features_anchor, features_game, labels = extract_features_and_labels(loaded_data)\n",
    "\n",
    "tokenizer = Tokenizer()\n",
    "tokenizer.fit_on_texts(features_anchor + features_game)\n",
    "vocab_size = len(tokenizer.word_index) + 1\n",
    "max_sequence_length = max(\n",
    "        max(len(seq) for seq in features_anchor),\n",
    "        max(len(seq) for seq in features_game),\n",
    "    )\n",
    "\n",
    "def tokenize_and_pad(sequences):\n",
    "    tokenized_sequences = tokenizer.texts_to_sequences(sequences)\n",
    "    padded_sequences = pad_sequences(tokenized_sequences, maxlen=max_sequence_length, padding='post')\n",
    "    return padded_sequences\n",
    "\n",
    "\n",
    "features_anchor = tokenize_and_pad(features_anchor)\n",
    "features_game = tokenize_and_pad(features_game)"
   ]
  },
  {
   "cell_type": "code",
   "outputs": [],
   "source": [
    "from sklearn.model_selection import train_test_split\n",
    "\n",
    "train_anchor, temp_anchor, train_game, temp_game, train_labels, temp_labels = train_test_split(\n",
    "    features_anchor,\n",
    "    features_game,\n",
    "    labels,\n",
    "    test_size=0.8, random_state=42)\n",
    "val_anchor, test_anchor, val_game, test_game, val_labels, test_labels = train_test_split(\n",
    "    temp_anchor,\n",
    "    temp_game,\n",
    "    temp_labels,\n",
    "    test_size=0.5, random_state=42)"
   ],
   "metadata": {
    "collapsed": false,
    "ExecuteTime": {
     "end_time": "2024-01-27T20:43:06.434427661Z",
     "start_time": "2024-01-27T20:43:04.248464773Z"
    }
   },
   "id": "2d9dcc5f31f4cbe7",
   "execution_count": 22
  },
  {
   "cell_type": "code",
   "execution_count": 23,
   "id": "3d0fc9c3e16949ed",
   "metadata": {
    "collapsed": false,
    "ExecuteTime": {
     "end_time": "2024-01-27T20:43:06.928761208Z",
     "start_time": "2024-01-27T20:43:06.435764427Z"
    }
   },
   "outputs": [
    {
     "name": "stdout",
     "output_type": "stream",
     "text": [
      "Model: \"model_1\"\n",
      "__________________________________________________________________________________________________\n",
      " Layer (type)                Output Shape                 Param #   Connected to                  \n",
      "==================================================================================================\n",
      " anchor (InputLayer)         [(None, 3764)]               0         []                            \n",
      "                                                                                                  \n",
      " game (InputLayer)           [(None, 3764)]               0         []                            \n",
      "                                                                                                  \n",
      " sequential_2 (Sequential)   (None, 16)                   466496    ['anchor[0][0]',              \n",
      "                                                                     'game[0][0]']                \n",
      "                                                                                                  \n",
      " dot_2 (Dot)                 (None, 1)                    0         ['sequential_2[0][0]',        \n",
      "                                                                     'sequential_2[1][0]']        \n",
      "                                                                                                  \n",
      "==================================================================================================\n",
      "Total params: 466496 (1.78 MB)\n",
      "Trainable params: 466496 (1.78 MB)\n",
      "Non-trainable params: 0 (0.00 Byte)\n",
      "__________________________________________________________________________________________________\n",
      "None\n"
     ]
    }
   ],
   "source": [
    "import numpy as np\n",
    "import tensorflow as tf\n",
    "from tensorflow.keras import layers, models\n",
    "from tensorflow.keras.optimizers import Adam\n",
    "\n",
    "\n",
    "def build_siamese_network(input_shape, vocab_size):\n",
    "    model = models.Sequential()\n",
    "    model.add(layers.Embedding(input_dim=vocab_size, output_dim=128, input_length=input_shape))\n",
    "    model.add(layers.LSTM(64))\n",
    "    model.add(layers.Dense(32, activation='relu'))\n",
    "    model.add(layers.Dropout(0.5))\n",
    "    model.add(layers.Dense(16, activation='relu'))\n",
    "    model.add(layers.Dropout(0.5))\n",
    "    model.add(layers.Dense(16, activation='sigmoid'))\n",
    "    return model\n",
    "\n",
    "# Define the input shapes\n",
    "input_shape = max_sequence_length\n",
    "\n",
    "# Create the Siamese network\n",
    "anchor_input = tf.keras.Input(shape=(input_shape,), name='anchor')\n",
    "game_input = tf.keras.Input(shape=(input_shape,), name='game')\n",
    "\n",
    "siamese_network = build_siamese_network(input_shape, vocab_size)\n",
    "\n",
    "# Generate the encodings (feature vectors) for the anchor and game\n",
    "encoded_anchor = siamese_network(anchor_input)\n",
    "encoded_game = siamese_network(game_input)\n",
    "\n",
    "# Calculate the similarity between the anchor and game\n",
    "similarity = layers.Dot(axes=1, normalize=True)([encoded_anchor, encoded_game])\n",
    "#layers.CosineSimilarity()\n",
    "\n",
    "# Create the Siamese model\n",
    "siamese_model = tf.keras.Model(inputs=[anchor_input, game_input], outputs=similarity)\n",
    "\n",
    "# Compile the Siamese model with binary crossentropy loss\n",
    "custom_adam = Adam(learning_rate=0.001)\n",
    "siamese_model.compile(loss='binary_crossentropy', optimizer=custom_adam, metrics=['accuracy'])\n",
    "\n",
    "# Print the model summary\n",
    "print(siamese_model.summary())"
   ]
  },
  {
   "cell_type": "code",
   "outputs": [
    {
     "name": "stdout",
     "output_type": "stream",
     "text": [
      "You must install pydot (`pip install pydot`) and install graphviz (see instructions at https://graphviz.gitlab.io/download/) for plot_model to work.\n"
     ]
    },
    {
     "ename": "ImportError",
     "evalue": "You must install pydot (`pip install pydot`) for model_to_dot to work.",
     "output_type": "error",
     "traceback": [
      "\u001B[0;31m---------------------------------------------------------------------------\u001B[0m",
      "\u001B[0;31mImportError\u001B[0m                               Traceback (most recent call last)",
      "Cell \u001B[0;32mIn[27], line 12\u001B[0m\n\u001B[1;32m     10\u001B[0m \u001B[38;5;28;01mfrom\u001B[39;00m \u001B[38;5;21;01mIPython\u001B[39;00m\u001B[38;5;21;01m.\u001B[39;00m\u001B[38;5;21;01mdisplay\u001B[39;00m \u001B[38;5;28;01mimport\u001B[39;00m SVG\n\u001B[1;32m     11\u001B[0m \u001B[38;5;28;01mfrom\u001B[39;00m \u001B[38;5;21;01mkeras\u001B[39;00m\u001B[38;5;21;01m.\u001B[39;00m\u001B[38;5;21;01mutils\u001B[39;00m \u001B[38;5;28;01mimport\u001B[39;00m model_to_dot\n\u001B[0;32m---> 12\u001B[0m SVG(\u001B[43mmodel_to_dot\u001B[49m\u001B[43m(\u001B[49m\u001B[43msiamese_model\u001B[49m\u001B[43m,\u001B[49m\u001B[43m \u001B[49m\u001B[43mrankdir\u001B[49m\u001B[38;5;241;43m=\u001B[39;49m\u001B[38;5;124;43m'\u001B[39;49m\u001B[38;5;124;43mLR\u001B[39;49m\u001B[38;5;124;43m'\u001B[39;49m\u001B[43m,\u001B[49m\u001B[43m \u001B[49m\u001B[43mshow_shapes\u001B[49m\u001B[38;5;241;43m=\u001B[39;49m\u001B[38;5;28;43;01mTrue\u001B[39;49;00m\u001B[43m,\u001B[49m\u001B[43m \u001B[49m\u001B[43mshow_layer_names\u001B[49m\u001B[38;5;241;43m=\u001B[39;49m\u001B[38;5;28;43;01mFalse\u001B[39;49;00m\u001B[43m,\u001B[49m\u001B[43m)\u001B[49m\u001B[38;5;241m.\u001B[39mcreate(prog\u001B[38;5;241m=\u001B[39m\u001B[38;5;124m'\u001B[39m\u001B[38;5;124mdot\u001B[39m\u001B[38;5;124m'\u001B[39m, \u001B[38;5;28mformat\u001B[39m\u001B[38;5;241m=\u001B[39m\u001B[38;5;124m'\u001B[39m\u001B[38;5;124msvg\u001B[39m\u001B[38;5;124m'\u001B[39m))\n",
      "File \u001B[0;32m~/.local/lib/python3.10/site-packages/keras/src/utils/vis_utils.py:141\u001B[0m, in \u001B[0;36mmodel_to_dot\u001B[0;34m(model, show_shapes, show_dtype, show_layer_names, rankdir, expand_nested, dpi, subgraph, layer_range, show_layer_activations, show_trainable)\u001B[0m\n\u001B[1;32m    138\u001B[0m \u001B[38;5;28;01mfrom\u001B[39;00m \u001B[38;5;21;01mkeras\u001B[39;00m\u001B[38;5;21;01m.\u001B[39;00m\u001B[38;5;21;01msrc\u001B[39;00m\u001B[38;5;21;01m.\u001B[39;00m\u001B[38;5;21;01mlayers\u001B[39;00m \u001B[38;5;28;01mimport\u001B[39;00m Wrapper\n\u001B[1;32m    140\u001B[0m \u001B[38;5;28;01mif\u001B[39;00m \u001B[38;5;129;01mnot\u001B[39;00m check_pydot():\n\u001B[0;32m--> 141\u001B[0m     \u001B[38;5;28;01mraise\u001B[39;00m \u001B[38;5;167;01mImportError\u001B[39;00m(\n\u001B[1;32m    142\u001B[0m         \u001B[38;5;124m\"\u001B[39m\u001B[38;5;124mYou must install pydot (`pip install pydot`) for \u001B[39m\u001B[38;5;124m\"\u001B[39m\n\u001B[1;32m    143\u001B[0m         \u001B[38;5;124m\"\u001B[39m\u001B[38;5;124mmodel_to_dot to work.\u001B[39m\u001B[38;5;124m\"\u001B[39m\n\u001B[1;32m    144\u001B[0m     )\n\u001B[1;32m    146\u001B[0m \u001B[38;5;28;01mif\u001B[39;00m subgraph:\n\u001B[1;32m    147\u001B[0m     dot \u001B[38;5;241m=\u001B[39m pydot\u001B[38;5;241m.\u001B[39mCluster(style\u001B[38;5;241m=\u001B[39m\u001B[38;5;124m\"\u001B[39m\u001B[38;5;124mdashed\u001B[39m\u001B[38;5;124m\"\u001B[39m, graph_name\u001B[38;5;241m=\u001B[39mmodel\u001B[38;5;241m.\u001B[39mname)\n",
      "\u001B[0;31mImportError\u001B[0m: You must install pydot (`pip install pydot`) for model_to_dot to work."
     ]
    }
   ],
   "source": [
    "from keras.utils import plot_model\n",
    "import matplotlib.pyplot as plt\n",
    "plot_model(\n",
    "    siamese_model, \n",
    "    to_file='model.png', \n",
    "    show_shapes=True, \n",
    "    show_layer_names=False, \n",
    "    rankdir='LR')\n",
    "\n",
    "from IPython.display import SVG\n",
    "from keras.utils import model_to_dot\n",
    "SVG(model_to_dot(siamese_model, rankdir='LR', show_shapes=True, show_layer_names=False,).create(prog='dot', format='svg'))"
   ],
   "metadata": {
    "collapsed": false,
    "ExecuteTime": {
     "end_time": "2024-01-27T20:48:41.069125404Z",
     "start_time": "2024-01-27T20:48:41.021106848Z"
    }
   },
   "id": "a221ce5d48d0484c",
   "execution_count": 27
  },
  {
   "cell_type": "code",
   "outputs": [],
   "source": [
    "print(\"Num GPUs Available: \", len(tf.config.list_physical_devices('GPU')))"
   ],
   "metadata": {
    "collapsed": false
   },
   "id": "98f2544429f155fe",
   "execution_count": null
  },
  {
   "cell_type": "code",
   "execution_count": null,
   "id": "cf9f1817c9dee6a0",
   "metadata": {
    "collapsed": false
   },
   "outputs": [],
   "source": [
    "# Train the Siamese model with your padded_sequences_anchor, padded_sequences_game, and labels\n",
    "history = siamese_model.fit(\n",
    "    [train_anchor, train_game],\n",
    "    np.array(train_labels),\n",
    "    epochs=10,\n",
    "    batch_size=64,\n",
    "    #validation_split=0.2,\n",
    "    use_multiprocessing=True,\n",
    "    workers=10,\n",
    "    validation_data=([val_anchor, val_game], np.array(val_labels))\n",
    ")"
   ]
  },
  {
   "cell_type": "code",
   "execution_count": null,
   "outputs": [],
   "source": [
    "from tensorflow.keras.models import save_model\n",
    "\n",
    "siamese_model.save('siamese_model.keras')"
   ],
   "metadata": {
    "collapsed": false
   },
   "id": "b8fcab060c86be1a"
  },
  {
   "cell_type": "code",
   "execution_count": null,
   "outputs": [],
   "source": [
    "# Evaluate the model on the test set\n",
    "test_loss, test_accuracy = siamese_model.evaluate(\n",
    "    (test_anchor, test_game),\n",
    "    np.array(test_labels),\n",
    ")\n",
    "print(f'Test Loss: {test_loss:.4f}, Test Accuracy: {test_accuracy * 100:.2f}%')"
   ],
   "metadata": {
    "collapsed": false
   },
   "id": "87b53c9fd5e0aeda"
  },
  {
   "cell_type": "code",
   "outputs": [],
   "source": [
    "from matplotlib import pyplot as plt\n",
    "\n",
    "plt.plot(history.history['accuracy'])\n",
    "plt.plot(history.history['val_accuracy'])\n",
    "plt.title('model accuracy')\n",
    "plt.ylabel('accuracy')\n",
    "plt.xlabel('epoch')\n",
    "plt.legend(['train', 'val'], loc='upper left')\n",
    "plt.show()"
   ],
   "metadata": {
    "collapsed": false
   },
   "id": "5c0a77cd6dec00d0",
   "execution_count": null
  },
  {
   "cell_type": "code",
   "outputs": [],
   "source": [
    "plt.plot(history.history['loss'])\n",
    "plt.plot(history.history['val_loss'])\n",
    "plt.title('model loss')\n",
    "plt.ylabel('loss')\n",
    "plt.xlabel('epoch')\n",
    "plt.legend(['train', 'val'], loc='upper left')\n",
    "plt.show()"
   ],
   "metadata": {
    "collapsed": false
   },
   "id": "4cf6ebc8a2cf51f9",
   "execution_count": null
  },
  {
   "cell_type": "code",
   "execution_count": null,
   "outputs": [],
   "source": [
    "# from tensorflow.keras.models import load_model\n",
    "# \n",
    "# siamese_model = load_model(\"siamese_model.h5\")"
   ],
   "metadata": {
    "collapsed": false
   },
   "id": "164b6acd23a6e1d5"
  },
  {
   "cell_type": "code",
   "execution_count": null,
   "outputs": [],
   "source": [
    "# get item by id\n",
    "# anchor_game = {'id': 26715, 'features': 'Adventure Arcade Indie Platform Racing Action abstract cyberpunk fastpaced precisionplatforming shootemup speedrunmode superhero'}\n",
    "# \n",
    "# item_sequences = tokenizer.texts_to_sequences([anchor_game['features']])\n",
    "# padded_item_sequences = pad_sequences(item_sequences, maxlen=max_sequence_length, padding='post')"
   ],
   "metadata": {
    "collapsed": false
   },
   "id": "d3648608926eccdb"
  },
  {
   "cell_type": "code",
   "execution_count": null,
   "outputs": [],
   "source": [
    "# get all items"
   ],
   "metadata": {
    "collapsed": false
   },
   "id": "4686ed6d1900a7df"
  }
 ],
 "metadata": {
  "kernelspec": {
   "display_name": "Python 3 (ipykernel)",
   "language": "python",
   "name": "python3"
  },
  "language_info": {
   "codemirror_mode": {
    "name": "ipython",
    "version": 3
   },
   "file_extension": ".py",
   "mimetype": "text/x-python",
   "name": "python",
   "nbconvert_exporter": "python",
   "pygments_lexer": "ipython3",
   "version": "3.10.12"
  }
 },
 "nbformat": 4,
 "nbformat_minor": 5
}
