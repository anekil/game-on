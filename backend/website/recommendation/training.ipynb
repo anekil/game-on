{
 "cells": [
  {
   "cell_type": "markdown",
   "id": "6d020738138ff425",
   "metadata": {
    "collapsed": false
   },
   "source": [
    "## load training triples"
   ]
  },
  {
   "cell_type": "code",
   "execution_count": 12,
   "id": "3f62c7bdf8b0b036",
   "metadata": {
    "collapsed": false,
    "ExecuteTime": {
     "end_time": "2024-01-25T13:50:49.618439700Z",
     "start_time": "2024-01-25T13:50:47.427388600Z"
    }
   },
   "outputs": [],
   "source": [
    "import json\n",
    "\n",
    "\n",
    "with open('training_data_pairs_shuffled.json', 'r') as f:\n",
    "    loaded_data = json.load(f)"
   ]
  },
  {
   "cell_type": "code",
   "execution_count": 13,
   "outputs": [
    {
     "name": "stdout",
     "output_type": "stream",
     "text": [
      "{'anchor': {'id': 21579, 'features': ' Sciencefiction actionadventure', 'description': 'A casual game for iPhone/iPod Touch. Collect ores, upgrade your ship, and blast robots! '}, 'game': {'id': 25300, 'features': 'Adventure Indie RoleplayingRPG Action Openworld Sciencefiction Survival actionadventure', 'description': 'Sky Break is an open-world game on a stormy abandoned planet filled with wild mechas. Learn to master this world and to hack the mechas if you want a chance to survive. Humanity is threatened. A deadly virus awoke, and it is spreading quickly. The particular flora of Arcania, a planet used to prepare humans for space colonization, may help in the creation of a cure. But it is now abandoned since working mechas turned against humans. A group of researchers is sent to this planet to find a solution. You are one of them. But as you arrived, your spaceship crashed…'}, 'label': 1}\n"
     ]
    }
   ],
   "source": [
    "print(loaded_data[0])"
   ],
   "metadata": {
    "collapsed": false,
    "ExecuteTime": {
     "end_time": "2024-01-25T13:50:49.635260900Z",
     "start_time": "2024-01-25T13:50:49.622108400Z"
    }
   },
   "id": "565ecbc86c523c78"
  },
  {
   "cell_type": "code",
   "execution_count": 14,
   "id": "7a13c635e0a59be0",
   "metadata": {
    "collapsed": false,
    "ExecuteTime": {
     "end_time": "2024-01-25T13:50:49.682177700Z",
     "start_time": "2024-01-25T13:50:49.637426600Z"
    }
   },
   "outputs": [
    {
     "name": "stdout",
     "output_type": "stream",
     "text": [
      "length: 227686\n"
     ]
    }
   ],
   "source": [
    "print(f'length: {len(loaded_data)}')"
   ]
  },
  {
   "cell_type": "code",
   "execution_count": 15,
   "id": "6d25018201843bc3",
   "metadata": {
    "collapsed": false,
    "ExecuteTime": {
     "end_time": "2024-01-25T13:50:49.684254700Z",
     "start_time": "2024-01-25T13:50:49.662636500Z"
    }
   },
   "outputs": [
    {
     "ename": "ModuleNotFoundError",
     "evalue": "No module named 'tensorflow'",
     "output_type": "error",
     "traceback": [
      "\u001B[1;31m---------------------------------------------------------------------------\u001B[0m",
      "\u001B[1;31mModuleNotFoundError\u001B[0m                       Traceback (most recent call last)",
      "Cell \u001B[1;32mIn[15], line 1\u001B[0m\n\u001B[1;32m----> 1\u001B[0m \u001B[38;5;28;01mfrom\u001B[39;00m \u001B[38;5;21;01mtensorflow\u001B[39;00m\u001B[38;5;21;01m.\u001B[39;00m\u001B[38;5;21;01mkeras\u001B[39;00m\u001B[38;5;21;01m.\u001B[39;00m\u001B[38;5;21;01mpreprocessing\u001B[39;00m\u001B[38;5;21;01m.\u001B[39;00m\u001B[38;5;21;01mtext\u001B[39;00m \u001B[38;5;28;01mimport\u001B[39;00m Tokenizer\n\u001B[0;32m      2\u001B[0m \u001B[38;5;28;01mfrom\u001B[39;00m \u001B[38;5;21;01mtensorflow\u001B[39;00m\u001B[38;5;21;01m.\u001B[39;00m\u001B[38;5;21;01mkeras\u001B[39;00m\u001B[38;5;21;01m.\u001B[39;00m\u001B[38;5;21;01mpreprocessing\u001B[39;00m\u001B[38;5;21;01m.\u001B[39;00m\u001B[38;5;21;01msequence\u001B[39;00m \u001B[38;5;28;01mimport\u001B[39;00m pad_sequences\n\u001B[0;32m      5\u001B[0m \u001B[38;5;28;01mdef\u001B[39;00m \u001B[38;5;21mextract_features_and_labels\u001B[39m(data):\n",
      "\u001B[1;31mModuleNotFoundError\u001B[0m: No module named 'tensorflow'"
     ]
    }
   ],
   "source": [
    "from tensorflow.keras.preprocessing.text import Tokenizer\n",
    "from tensorflow.keras.preprocessing.sequence import pad_sequences\n",
    "\n",
    "\n",
    "def extract_features_and_labels(data):\n",
    "    features_anchor = [entry['anchor']['features'] for entry in data]\n",
    "    features_game = [entry['game']['features'] for entry in data]\n",
    "    labels = [entry['label'] for entry in data]\n",
    "    return (features_anchor, features_game, labels)\n",
    "\n",
    "features_anchor, features_game, labels = extract_features_and_labels(loaded_data)\n",
    "\n",
    "tokenizer = Tokenizer()\n",
    "tokenizer.fit_on_texts(features_anchor + features_game)\n",
    "vocab_size = len(tokenizer.word_index) + 1\n",
    "max_sequence_length = max(\n",
    "        max(len(seq) for seq in features_anchor),\n",
    "        max(len(seq) for seq in features_game),\n",
    "    )\n",
    "\n",
    "def tokenize_and_pad(sequences):\n",
    "    tokenized_sequences = tokenizer.texts_to_sequences(sequences)\n",
    "    padded_sequences = pad_sequences(tokenized_sequences, maxlen=max_sequence_length, padding='post')\n",
    "    return padded_sequences\n",
    "\n",
    "\n",
    "features_anchor = tokenize_and_pad(features_anchor)\n",
    "features_game = tokenize_and_pad(features_game)"
   ]
  },
  {
   "cell_type": "code",
   "outputs": [],
   "source": [
    "from sklearn.model_selection import train_test_split\n",
    "\n",
    "train_anchor, temp_anchor, train_game, temp_game, train_labels, temp_labels = train_test_split(\n",
    "    features_anchor,\n",
    "    features_game,\n",
    "    labels,\n",
    "    test_size=0.8, random_state=42)\n",
    "val_anchor, test_anchor, val_game, test_game, val_labels, test_labels = train_test_split(\n",
    "    temp_anchor,\n",
    "    temp_game,\n",
    "    temp_labels,\n",
    "    test_size=0.5, random_state=42)"
   ],
   "metadata": {
    "collapsed": false,
    "ExecuteTime": {
     "end_time": "2024-01-25T13:50:49.698795600Z",
     "start_time": "2024-01-25T13:50:49.694671800Z"
    }
   },
   "id": "2d9dcc5f31f4cbe7",
   "execution_count": null
  },
  {
   "cell_type": "code",
   "execution_count": null,
   "id": "a221ce5d48d0484c",
   "metadata": {
    "collapsed": false,
    "ExecuteTime": {
     "start_time": "2024-01-25T13:50:49.696720200Z"
    }
   },
   "outputs": [],
   "source": [
    "import numpy as np\n",
    "import tensorflow as tf\n",
    "from tensorflow.keras import layers, models\n",
    "from tensorflow.keras.optimizers import Adam\n",
    "\n",
    "\n",
    "def build_siamese_network(input_shape, vocab_size):\n",
    "    model = models.Sequential()\n",
    "    model.add(layers.Embedding(input_dim=vocab_size, output_dim=128, input_length=input_shape))\n",
    "    model.add(layers.LSTM(64))\n",
    "    model.add(layers.Dense(32, activation='relu'))\n",
    "    model.add(layers.Dropout(0.5))\n",
    "    model.add(layers.Dense(16, activation='relu'))\n",
    "    return model\n",
    "\n",
    "# Define the input shapes\n",
    "input_shape = max_sequence_length\n",
    "\n",
    "# Create the Siamese network\n",
    "anchor_input = tf.keras.Input(shape=(input_shape,), name='anchor')\n",
    "game_input = tf.keras.Input(shape=(input_shape,), name='game')\n",
    "\n",
    "siamese_network = build_siamese_network(input_shape, vocab_size)\n",
    "\n",
    "# Generate the encodings (feature vectors) for the anchor and game\n",
    "encoded_anchor = siamese_network(anchor_input)\n",
    "encoded_game = siamese_network(game_input)\n",
    "\n",
    "# Calculate the similarity between the anchor and game\n",
    "similarity = layers.Dot(axes=1, normalize=True)([encoded_anchor, encoded_game])\n",
    "\n",
    "# Create the Siamese model\n",
    "siamese_model = tf.keras.Model(inputs=[anchor_input, game_input], outputs=similarity)\n",
    "\n",
    "# Compile the Siamese model with binary crossentropy loss\n",
    "# custom_adam = Adam(learning_rate=0.001)\n",
    "siamese_model.compile(loss='binary_crossentropy', optimizer='adam', metrics=['accuracy'])\n",
    "\n",
    "# Print the model summary\n",
    "print(siamese_model.summary())"
   ]
  },
  {
   "cell_type": "code",
   "execution_count": null,
   "id": "fbbdd9c982d2fac7",
   "metadata": {
    "collapsed": false,
    "ExecuteTime": {
     "end_time": "2024-01-25T13:50:49.726946500Z",
     "start_time": "2024-01-25T13:50:49.700860900Z"
    }
   },
   "outputs": [],
   "source": [
    "# train_anchor = np.array(train_anchor)\n",
    "# train_game = np.array(train_game)\n",
    "# train_labels = np.array(train_labels)\n",
    "# \n",
    "# val_anchor = np.array(val_anchor)\n",
    "# val_game = np.array(val_game)\n",
    "# val_labels = np.array(val_labels)"
   ]
  },
  {
   "cell_type": "code",
   "outputs": [],
   "source": [
    "print(\"Num GPUs Available: \", len(tf.config.list_physical_devices('GPU')))"
   ],
   "metadata": {
    "collapsed": false,
    "ExecuteTime": {
     "start_time": "2024-01-25T13:50:49.702996900Z"
    }
   },
   "id": "98f2544429f155fe",
   "execution_count": null
  },
  {
   "cell_type": "code",
   "execution_count": null,
   "id": "cf9f1817c9dee6a0",
   "metadata": {
    "collapsed": false,
    "ExecuteTime": {
     "start_time": "2024-01-25T13:50:49.705070700Z"
    }
   },
   "outputs": [],
   "source": [
    "# Train the Siamese model with your padded_sequences_anchor, padded_sequences_game, and labels\n",
    "siamese_model.fit(\n",
    "    [train_anchor, train_game],\n",
    "    np.array(train_labels),\n",
    "    epochs=10,\n",
    "    batch_size=128,\n",
    "    #validation_split=0.2,\n",
    "    use_multiprocessing=True,\n",
    "    workers=10,\n",
    "    validation_data=([val_anchor, val_game], np.array(val_labels))\n",
    ")"
   ]
  },
  {
   "cell_type": "code",
   "execution_count": null,
   "outputs": [],
   "source": [
    "from tensorflow.keras.models import save_model\n",
    "\n",
    "siamese_model.save('siamese_model.keras')"
   ],
   "metadata": {
    "collapsed": false,
    "ExecuteTime": {
     "start_time": "2024-01-25T13:50:49.707138100Z"
    }
   },
   "id": "b8fcab060c86be1a"
  },
  {
   "cell_type": "code",
   "execution_count": null,
   "outputs": [],
   "source": [
    "# Evaluate the model on the test set\n",
    "test_loss, test_accuracy = siamese_model.evaluate(\n",
    "    (test_anchor, test_game),\n",
    "    np.array(test_labels),\n",
    ")\n",
    "print(f'Test Loss: {test_loss:.4f}, Test Accuracy: {test_accuracy * 100:.2f}%')"
   ],
   "metadata": {
    "collapsed": false,
    "ExecuteTime": {
     "start_time": "2024-01-25T13:50:49.709213400Z"
    }
   },
   "id": "4cf6ebc8a2cf51f9"
  },
  {
   "cell_type": "code",
   "execution_count": null,
   "outputs": [],
   "source": [
    "# from tensorflow.keras.models import load_model\n",
    "# \n",
    "# siamese_model = load_model(\"siamese_model.h5\")"
   ],
   "metadata": {
    "collapsed": false,
    "ExecuteTime": {
     "start_time": "2024-01-25T13:50:49.711299500Z"
    }
   },
   "id": "164b6acd23a6e1d5"
  },
  {
   "cell_type": "code",
   "execution_count": null,
   "outputs": [],
   "source": [
    "# get item by id\n",
    "# anchor_game = {'id': 26715, 'features': 'Adventure Arcade Indie Platform Racing Action abstract cyberpunk fastpaced precisionplatforming shootemup speedrunmode superhero'}\n",
    "# \n",
    "# item_sequences = tokenizer.texts_to_sequences([anchor_game['features']])\n",
    "# padded_item_sequences = pad_sequences(item_sequences, maxlen=max_sequence_length, padding='post')"
   ],
   "metadata": {
    "collapsed": false,
    "ExecuteTime": {
     "start_time": "2024-01-25T13:50:49.712365700Z"
    }
   },
   "id": "d3648608926eccdb"
  },
  {
   "cell_type": "code",
   "execution_count": null,
   "outputs": [],
   "source": [
    "# get all items"
   ],
   "metadata": {
    "collapsed": false,
    "ExecuteTime": {
     "start_time": "2024-01-25T13:50:49.714417800Z"
    }
   },
   "id": "4686ed6d1900a7df"
  }
 ],
 "metadata": {
  "kernelspec": {
   "display_name": "Python 3 (ipykernel)",
   "language": "python",
   "name": "python3"
  },
  "language_info": {
   "codemirror_mode": {
    "name": "ipython",
    "version": 3
   },
   "file_extension": ".py",
   "mimetype": "text/x-python",
   "name": "python",
   "nbconvert_exporter": "python",
   "pygments_lexer": "ipython3",
   "version": "3.10.12"
  }
 },
 "nbformat": 4,
 "nbformat_minor": 5
}
