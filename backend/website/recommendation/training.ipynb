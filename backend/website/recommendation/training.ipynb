{
 "cells": [
  {
   "cell_type": "markdown",
   "id": "6d020738138ff425",
   "metadata": {
    "collapsed": false
   },
   "source": [
    "## load training triples"
   ]
  },
  {
   "cell_type": "code",
   "execution_count": 1,
   "id": "3f62c7bdf8b0b036",
   "metadata": {
    "collapsed": false,
    "ExecuteTime": {
     "end_time": "2024-01-19T16:03:31.765753062Z",
     "start_time": "2024-01-19T16:03:29.968826767Z"
    }
   },
   "outputs": [],
   "source": [
    "import json\n",
    "import random\n",
    "\n",
    "\n",
    "with open('training_data_pairs.json', 'r') as f:\n",
    "    loaded_data = json.load(f)\n",
    "\n",
    "train_data = loaded_data['train_data']\n",
    "val_data = loaded_data['val_data']\n",
    "test_data = loaded_data['test_data']"
   ]
  },
  {
   "cell_type": "code",
   "execution_count": 2,
   "outputs": [
    {
     "name": "stdout",
     "output_type": "stream",
     "text": [
      "{'anchor': {'id': 556, 'features': 'Shooter Action Stealth achievements aggressivedooropening binkvideo bloody checkpoints classbased controversy corpse darkness death digitaldistribution dolbydigital e eaapp eagunclub famousquotes firstpersonshooter franchisereboot gamersgate gamescom gamesondemand goat guidedbyradio human infiniteammo invisiblewall killfeed killstreakreward lineargameplay maleprotagonist matchmaking mature melee mercenary military militaryjargon modern modernmilitary modernwarfare mouse mp multimonitorsupport newpurchaseincentives norespawn novintfalconsupport onsiteprocurement paxprime playstationtrophies politicalthriller polygonald prereleasepublictesting profanity realism realtimecombat samenamereboot scriptedevents snow soldier stealthcamouflage stealthkill steam tank teamdeathmatch terrorists throwingweapons unitedstatesarmy useablevehicles visionobstruction voiceacting voicechat war wasdmovement whitenoise xboxlive'}, 'game': {'id': 23823, 'features': '  '}, 'label': 0}\n"
     ]
    }
   ],
   "source": [
    "print(train_data[0])"
   ],
   "metadata": {
    "collapsed": false,
    "ExecuteTime": {
     "end_time": "2024-01-19T16:03:31.766980934Z",
     "start_time": "2024-01-19T16:03:31.718010918Z"
    }
   },
   "id": "565ecbc86c523c78"
  },
  {
   "cell_type": "code",
   "execution_count": 3,
   "id": "7a13c635e0a59be0",
   "metadata": {
    "collapsed": false,
    "ExecuteTime": {
     "end_time": "2024-01-19T16:03:31.767891384Z",
     "start_time": "2024-01-19T16:03:31.725643295Z"
    }
   },
   "outputs": [
    {
     "name": "stdout",
     "output_type": "stream",
     "text": [
      "train: 45767, val: 91535, test: 91536, total: 228838\n"
     ]
    }
   ],
   "source": [
    "total_len = len(train_data) + len(val_data) + len(test_data)\n",
    "print(f'train: {len(train_data)}, val: {len(val_data)}, test: {len(test_data)}, total: {total_len}')"
   ]
  },
  {
   "cell_type": "code",
   "execution_count": 4,
   "outputs": [],
   "source": [
    "# train_data = train_data[:int(len(train_data)/2)]\n",
    "# val_data = val_data[:int(len(val_data)/2)]\n",
    "# test_data = test_data[:int(len(test_data)/2)]\n",
    "# \n",
    "# total_len = len(train_data) + len(val_data) + len(test_data)\n",
    "# print(f'train: {len(train_data)}, val: {len(val_data)}, test: {len(test_data)}, total: {total_len}')"
   ],
   "metadata": {
    "collapsed": false,
    "ExecuteTime": {
     "end_time": "2024-01-19T16:03:31.768284887Z",
     "start_time": "2024-01-19T16:03:31.751289701Z"
    }
   },
   "id": "e7f7915fe31c91b9"
  },
  {
   "cell_type": "code",
   "execution_count": 5,
   "id": "2d9dcc5f31f4cbe7",
   "metadata": {
    "collapsed": false,
    "ExecuteTime": {
     "end_time": "2024-01-19T16:03:56.599329088Z",
     "start_time": "2024-01-19T16:03:31.769607490Z"
    }
   },
   "outputs": [
    {
     "name": "stderr",
     "output_type": "stream",
     "text": [
      "2024-01-19 17:03:33.079553: I external/local_tsl/tsl/cuda/cudart_stub.cc:31] Could not find cuda drivers on your machine, GPU will not be used.\n",
      "2024-01-19 17:03:33.501271: E external/local_xla/xla/stream_executor/cuda/cuda_dnn.cc:9261] Unable to register cuDNN factory: Attempting to register factory for plugin cuDNN when one has already been registered\n",
      "2024-01-19 17:03:33.501379: E external/local_xla/xla/stream_executor/cuda/cuda_fft.cc:607] Unable to register cuFFT factory: Attempting to register factory for plugin cuFFT when one has already been registered\n",
      "2024-01-19 17:03:33.580773: E external/local_xla/xla/stream_executor/cuda/cuda_blas.cc:1515] Unable to register cuBLAS factory: Attempting to register factory for plugin cuBLAS when one has already been registered\n",
      "2024-01-19 17:03:33.747398: I external/local_tsl/tsl/cuda/cudart_stub.cc:31] Could not find cuda drivers on your machine, GPU will not be used.\n",
      "2024-01-19 17:03:33.749837: I tensorflow/core/platform/cpu_feature_guard.cc:182] This TensorFlow binary is optimized to use available CPU instructions in performance-critical operations.\n",
      "To enable the following instructions: AVX2 FMA, in other operations, rebuild TensorFlow with the appropriate compiler flags.\n",
      "2024-01-19 17:03:35.184418: W tensorflow/compiler/tf2tensorrt/utils/py_utils.cc:38] TF-TRT Warning: Could not find TensorRT\n"
     ]
    },
    {
     "name": "stdout",
     "output_type": "stream",
     "text": [
      "[11  1 67 ...  0  0  0]\n"
     ]
    }
   ],
   "source": [
    "from tensorflow.keras.preprocessing.text import Tokenizer\n",
    "from tensorflow.keras.preprocessing.sequence import pad_sequences\n",
    "\n",
    "\n",
    "def extract_features_and_labels(data):\n",
    "    features_anchor = [entry['anchor']['features'] for entry in data]\n",
    "    features_game = [entry['game']['features'] for entry in data]\n",
    "    labels = [entry['label'] for entry in data]\n",
    "    return (features_anchor, features_game, labels)\n",
    "\n",
    "\n",
    "train_anchor, train_game, train_labels = extract_features_and_labels(train_data)\n",
    "val_anchor, val_game, val_labels = extract_features_and_labels(val_data)\n",
    "test_anchor, test_game, test_labels = extract_features_and_labels(test_data)\n",
    "\n",
    "tokenizer = Tokenizer()\n",
    "tokenizer.fit_on_texts(train_anchor + train_game)\n",
    "vocab_size = len(tokenizer.word_index) + 1\n",
    "max_sequence_length = max(\n",
    "        max(len(seq) for seq in train_anchor),\n",
    "        max(len(seq) for seq in train_game),\n",
    "        max(len(seq) for seq in val_anchor),\n",
    "        max(len(seq) for seq in val_game),\n",
    "        max(len(seq) for seq in test_anchor),\n",
    "        max(len(seq) for seq in test_game)\n",
    "    )\n",
    "\n",
    "def tokenize_and_pad(sequences):\n",
    "    tokenized_sequences = tokenizer.texts_to_sequences(sequences)\n",
    "    padded_sequences = pad_sequences(tokenized_sequences, maxlen=max_sequence_length, padding='post')\n",
    "    return padded_sequences\n",
    "\n",
    "\n",
    "train_anchor = tokenize_and_pad(train_anchor)\n",
    "train_game = tokenize_and_pad(train_game)\n",
    "\n",
    "val_anchor = tokenize_and_pad(val_anchor)\n",
    "val_game = tokenize_and_pad(val_game)\n",
    "\n",
    "test_anchor = tokenize_and_pad(test_anchor)\n",
    "test_game = tokenize_and_pad(test_game)\n",
    "\n",
    "print(train_anchor[0])"
   ]
  },
  {
   "cell_type": "code",
   "execution_count": 6,
   "id": "a221ce5d48d0484c",
   "metadata": {
    "collapsed": false,
    "ExecuteTime": {
     "end_time": "2024-01-19T16:03:58.112222515Z",
     "start_time": "2024-01-19T16:03:56.591729924Z"
    }
   },
   "outputs": [
    {
     "name": "stderr",
     "output_type": "stream",
     "text": [
      "2024-01-19 17:03:56.707298: I external/local_xla/xla/stream_executor/cuda/cuda_executor.cc:901] successful NUMA node read from SysFS had negative value (-1), but there must be at least one NUMA node, so returning NUMA node zero. See more at https://github.com/torvalds/linux/blob/v6.0/Documentation/ABI/testing/sysfs-bus-pci#L344-L355\n",
      "2024-01-19 17:03:56.767982: W tensorflow/core/common_runtime/gpu/gpu_device.cc:2256] Cannot dlopen some GPU libraries. Please make sure the missing libraries mentioned above are installed properly if you would like to use GPU. Follow the guide at https://www.tensorflow.org/install/gpu for how to download and setup the required libraries for your platform.\n",
      "Skipping registering GPU devices...\n"
     ]
    },
    {
     "name": "stdout",
     "output_type": "stream",
     "text": [
      "Model: \"model\"\n",
      "__________________________________________________________________________________________________\n",
      " Layer (type)                Output Shape                 Param #   Connected to                  \n",
      "==================================================================================================\n",
      " anchor (InputLayer)         [(None, 3786)]               0         []                            \n",
      "                                                                                                  \n",
      " game (InputLayer)           [(None, 3786)]               0         []                            \n",
      "                                                                                                  \n",
      " sequential (Sequential)     (None, 16)                   470576    ['anchor[0][0]',              \n",
      "                                                                     'game[0][0]']                \n",
      "                                                                                                  \n",
      " dot (Dot)                   (None, 1)                    0         ['sequential[0][0]',          \n",
      "                                                                     'sequential[1][0]']          \n",
      "                                                                                                  \n",
      "==================================================================================================\n",
      "Total params: 470576 (1.80 MB)\n",
      "Trainable params: 470576 (1.80 MB)\n",
      "Non-trainable params: 0 (0.00 Byte)\n",
      "__________________________________________________________________________________________________\n",
      "None\n"
     ]
    }
   ],
   "source": [
    "import numpy as np\n",
    "import tensorflow as tf\n",
    "from tensorflow.keras import layers, models\n",
    "from tensorflow.keras.optimizers import Adam\n",
    "\n",
    "\n",
    "# Define the Siamese network architecture\n",
    "def build_siamese_network(input_shape, vocab_size):\n",
    "    model = models.Sequential()\n",
    "    model.add(layers.Embedding(input_dim=vocab_size, output_dim=128, input_length=input_shape))\n",
    "    model.add(layers.LSTM(64))\n",
    "    model.add(layers.Dense(32, activation='relu'))\n",
    "    model.add(layers.Dropout(0.5))\n",
    "    model.add(layers.Dense(16, activation='relu'))\n",
    "    return model\n",
    "\n",
    "# Define the input shapes\n",
    "input_shape = max_sequence_length\n",
    "\n",
    "# Create the Siamese network\n",
    "anchor_input = tf.keras.Input(shape=(input_shape,), name='anchor')\n",
    "game_input = tf.keras.Input(shape=(input_shape,), name='game')\n",
    "\n",
    "siamese_network = build_siamese_network(input_shape, vocab_size)\n",
    "\n",
    "# Generate the encodings (feature vectors) for the anchor and game\n",
    "encoded_anchor = siamese_network(anchor_input)\n",
    "encoded_game = siamese_network(game_input)\n",
    "\n",
    "# Calculate the similarity between the anchor and game\n",
    "similarity = layers.Dot(axes=1, normalize=True)([encoded_anchor, encoded_game])\n",
    "\n",
    "# Create the Siamese model\n",
    "siamese_model = tf.keras.Model(inputs=[anchor_input, game_input], outputs=similarity)\n",
    "\n",
    "# Compile the Siamese model with binary crossentropy loss\n",
    "# custom_adam = Adam(learning_rate=0.001)\n",
    "siamese_model.compile(loss='binary_crossentropy', optimizer='adam', metrics=['accuracy'])\n",
    "\n",
    "# Print the model summary\n",
    "print(siamese_model.summary())"
   ]
  },
  {
   "cell_type": "code",
   "execution_count": 7,
   "id": "98f2544429f155fe",
   "metadata": {
    "collapsed": false,
    "ExecuteTime": {
     "end_time": "2024-01-19T16:04:04.406559710Z",
     "start_time": "2024-01-19T16:03:57.926577003Z"
    }
   },
   "outputs": [],
   "source": [
    "train_anchor = np.array(train_anchor)\n",
    "train_game = np.array(train_game)\n",
    "train_labels = np.array(train_labels)\n",
    "\n",
    "val_anchor = np.array(val_anchor)\n",
    "val_game = np.array(val_game)\n",
    "val_labels = np.array(val_labels)"
   ]
  },
  {
   "cell_type": "code",
   "execution_count": null,
   "id": "cf9f1817c9dee6a0",
   "metadata": {
    "collapsed": false,
    "is_executing": true,
    "ExecuteTime": {
     "start_time": "2024-01-19T16:10:40.313628455Z"
    }
   },
   "outputs": [
    {
     "name": "stdout",
     "output_type": "stream",
     "text": [
      "Epoch 1/10\n",
      "358/358 [==============================] - 4758s 13s/step - loss: 0.5656 - accuracy: 0.7710 - val_loss: 3.3600 - val_accuracy: 0.7796\n",
      "Epoch 2/10\n",
      "358/358 [==============================] - 4230s 12s/step - loss: 0.5568 - accuracy: 0.7761 - val_loss: 3.3607 - val_accuracy: 0.7796\n",
      "Epoch 3/10\n",
      "358/358 [==============================] - 4228s 12s/step - loss: 0.5534 - accuracy: 0.7776 - val_loss: 3.3607 - val_accuracy: 0.7796\n",
      "Epoch 4/10\n",
      "358/358 [==============================] - 4635s 13s/step - loss: 0.5509 - accuracy: 0.7780 - val_loss: 3.3607 - val_accuracy: 0.7796\n",
      "Epoch 5/10\n",
      "358/358 [==============================] - 4229s 12s/step - loss: 0.5491 - accuracy: 0.7780 - val_loss: 3.3596 - val_accuracy: 0.7796\n",
      "Epoch 6/10\n",
      "239/358 [===================>..........] - ETA: 15:37 - loss: 0.5440 - accuracy: 0.7814"
     ]
    }
   ],
   "source": [
    "# Train the Siamese model with your padded_sequences_anchor, padded_sequences_game, and labels\n",
    "siamese_model.fit(\n",
    "    [train_anchor, train_game],\n",
    "    train_labels,\n",
    "    epochs=10,\n",
    "    batch_size=128,\n",
    "    #validation_split=0.2,\n",
    "    use_multiprocessing=True,\n",
    "    workers=10,\n",
    "    validation_data=([val_anchor, val_game], val_labels)\n",
    ")"
   ]
  },
  {
   "cell_type": "code",
   "execution_count": null,
   "outputs": [],
   "source": [
    "from tensorflow.keras.models import save_model\n",
    "\n",
    "siamese_model.save('siamese_model.keras')"
   ],
   "metadata": {
    "collapsed": false,
    "is_executing": true
   },
   "id": "b8fcab060c86be1a"
  },
  {
   "cell_type": "code",
   "execution_count": null,
   "outputs": [],
   "source": [
    "# Evaluate the model on the test set\n",
    "test_loss, test_accuracy = siamese_model.evaluate(\n",
    "    (test_anchor, test_game),\n",
    "    np.array(test_labels),\n",
    ")\n",
    "print(f'Test Loss: {test_loss:.4f}, Test Accuracy: {test_accuracy * 100:.2f}%')"
   ],
   "metadata": {
    "collapsed": false,
    "is_executing": true
   },
   "id": "4cf6ebc8a2cf51f9"
  },
  {
   "cell_type": "code",
   "execution_count": null,
   "outputs": [],
   "source": [
    "# from tensorflow.keras.models import load_model\n",
    "# \n",
    "# siamese_model = load_model(\"siamese_model.h5\")"
   ],
   "metadata": {
    "collapsed": false,
    "is_executing": true
   },
   "id": "164b6acd23a6e1d5"
  },
  {
   "cell_type": "code",
   "execution_count": null,
   "outputs": [],
   "source": [
    "# get item by id\n",
    "# anchor_game = {'id': 26715, 'features': 'Adventure Arcade Indie Platform Racing Action abstract cyberpunk fastpaced precisionplatforming shootemup speedrunmode superhero'}\n",
    "# \n",
    "# item_sequences = tokenizer.texts_to_sequences([anchor_game['features']])\n",
    "# padded_item_sequences = pad_sequences(item_sequences, maxlen=max_sequence_length, padding='post')"
   ],
   "metadata": {
    "collapsed": false,
    "is_executing": true
   },
   "id": "d3648608926eccdb"
  },
  {
   "cell_type": "code",
   "execution_count": null,
   "outputs": [],
   "source": [
    "# get all items"
   ],
   "metadata": {
    "collapsed": false,
    "is_executing": true
   },
   "id": "4686ed6d1900a7df"
  }
 ],
 "metadata": {
  "kernelspec": {
   "display_name": "Python 3 (ipykernel)",
   "language": "python",
   "name": "python3"
  },
  "language_info": {
   "codemirror_mode": {
    "name": "ipython",
    "version": 3
   },
   "file_extension": ".py",
   "mimetype": "text/x-python",
   "name": "python",
   "nbconvert_exporter": "python",
   "pygments_lexer": "ipython3",
   "version": "3.10.12"
  }
 },
 "nbformat": 4,
 "nbformat_minor": 5
}
